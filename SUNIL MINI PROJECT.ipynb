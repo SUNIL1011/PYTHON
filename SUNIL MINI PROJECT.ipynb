{
 "cells": [
  {
   "cell_type": "code",
   "execution_count": 246,
   "metadata": {},
   "outputs": [],
   "source": [
    "import pandas as pd \n",
    "import numpy as np\n",
    "import matplotlib.pyplot as plt\n",
    "import seaborn as sns\n",
    "from warnings import filterwarnings\n",
    "filterwarnings('ignore')\n",
    "import random\n",
    "import statistics\n",
    "from scipy import stats\n",
    "from statsmodels.stats import weightstats as stests\n",
    "from scipy.stats import shapiro\n",
    "from statsmodels.stats import power"
   ]
  },
  {
   "cell_type": "markdown",
   "metadata": {},
   "source": [
    "1. Perform the following statistical analysis on the fifa world cup dataset. The dataset consists of player information which includes height, weight overall rating, potential etc. Data Cleaning and basic EDA process needs to be performed. "
   ]
  },
  {
   "cell_type": "code",
   "execution_count": 247,
   "metadata": {},
   "outputs": [
    {
     "data": {
      "text/html": [
       "<div>\n",
       "<style scoped>\n",
       "    .dataframe tbody tr th:only-of-type {\n",
       "        vertical-align: middle;\n",
       "    }\n",
       "\n",
       "    .dataframe tbody tr th {\n",
       "        vertical-align: top;\n",
       "    }\n",
       "\n",
       "    .dataframe thead th {\n",
       "        text-align: right;\n",
       "    }\n",
       "</style>\n",
       "<table border=\"1\" class=\"dataframe\">\n",
       "  <thead>\n",
       "    <tr style=\"text-align: right;\">\n",
       "      <th></th>\n",
       "      <th>Name</th>\n",
       "      <th>Age</th>\n",
       "      <th>Nationality</th>\n",
       "      <th>Overall_rating</th>\n",
       "      <th>Potential</th>\n",
       "      <th>Club</th>\n",
       "      <th>Preferred Foot</th>\n",
       "      <th>International Reputation</th>\n",
       "      <th>Weak Foot</th>\n",
       "      <th>Skill Moves</th>\n",
       "      <th>Work Rate</th>\n",
       "      <th>Position</th>\n",
       "      <th>Jersey Number</th>\n",
       "      <th>Height</th>\n",
       "      <th>Weight</th>\n",
       "    </tr>\n",
       "  </thead>\n",
       "  <tbody>\n",
       "    <tr>\n",
       "      <th>0</th>\n",
       "      <td>L. Messi</td>\n",
       "      <td>31</td>\n",
       "      <td>Argentina</td>\n",
       "      <td>94</td>\n",
       "      <td>94</td>\n",
       "      <td>FC Barcelona</td>\n",
       "      <td>Left</td>\n",
       "      <td>5</td>\n",
       "      <td>4</td>\n",
       "      <td>4</td>\n",
       "      <td>Medium/ Medium</td>\n",
       "      <td>RF</td>\n",
       "      <td>10</td>\n",
       "      <td>5.583333</td>\n",
       "      <td>159</td>\n",
       "    </tr>\n",
       "    <tr>\n",
       "      <th>1</th>\n",
       "      <td>Cristiano Ronaldo</td>\n",
       "      <td>33</td>\n",
       "      <td>Portugal</td>\n",
       "      <td>94</td>\n",
       "      <td>94</td>\n",
       "      <td>Juventus</td>\n",
       "      <td>Right</td>\n",
       "      <td>5</td>\n",
       "      <td>4</td>\n",
       "      <td>5</td>\n",
       "      <td>High/ Low</td>\n",
       "      <td>ST</td>\n",
       "      <td>7</td>\n",
       "      <td>6.166667</td>\n",
       "      <td>183</td>\n",
       "    </tr>\n",
       "    <tr>\n",
       "      <th>2</th>\n",
       "      <td>Neymar Jr</td>\n",
       "      <td>26</td>\n",
       "      <td>Brazil</td>\n",
       "      <td>92</td>\n",
       "      <td>93</td>\n",
       "      <td>Paris Saint-Germain</td>\n",
       "      <td>Right</td>\n",
       "      <td>5</td>\n",
       "      <td>5</td>\n",
       "      <td>5</td>\n",
       "      <td>High/ Medium</td>\n",
       "      <td>LW</td>\n",
       "      <td>10</td>\n",
       "      <td>5.750000</td>\n",
       "      <td>150</td>\n",
       "    </tr>\n",
       "    <tr>\n",
       "      <th>3</th>\n",
       "      <td>De Gea</td>\n",
       "      <td>27</td>\n",
       "      <td>Spain</td>\n",
       "      <td>91</td>\n",
       "      <td>93</td>\n",
       "      <td>Manchester United</td>\n",
       "      <td>Right</td>\n",
       "      <td>4</td>\n",
       "      <td>3</td>\n",
       "      <td>1</td>\n",
       "      <td>Medium/ Medium</td>\n",
       "      <td>GK</td>\n",
       "      <td>1</td>\n",
       "      <td>6.333333</td>\n",
       "      <td>168</td>\n",
       "    </tr>\n",
       "    <tr>\n",
       "      <th>4</th>\n",
       "      <td>K. De Bruyne</td>\n",
       "      <td>27</td>\n",
       "      <td>Belgium</td>\n",
       "      <td>91</td>\n",
       "      <td>92</td>\n",
       "      <td>Manchester City</td>\n",
       "      <td>Right</td>\n",
       "      <td>4</td>\n",
       "      <td>5</td>\n",
       "      <td>4</td>\n",
       "      <td>High/ High</td>\n",
       "      <td>RCM</td>\n",
       "      <td>7</td>\n",
       "      <td>5.083333</td>\n",
       "      <td>154</td>\n",
       "    </tr>\n",
       "  </tbody>\n",
       "</table>\n",
       "</div>"
      ],
      "text/plain": [
       "                Name  Age Nationality  Overall_rating  Potential  \\\n",
       "0           L. Messi   31   Argentina              94         94   \n",
       "1  Cristiano Ronaldo   33    Portugal              94         94   \n",
       "2          Neymar Jr   26      Brazil              92         93   \n",
       "3             De Gea   27       Spain              91         93   \n",
       "4       K. De Bruyne   27     Belgium              91         92   \n",
       "\n",
       "                  Club Preferred Foot  International Reputation  Weak Foot  \\\n",
       "0         FC Barcelona           Left                         5          4   \n",
       "1             Juventus          Right                         5          4   \n",
       "2  Paris Saint-Germain          Right                         5          5   \n",
       "3    Manchester United          Right                         4          3   \n",
       "4      Manchester City          Right                         4          5   \n",
       "\n",
       "   Skill Moves       Work Rate Position  Jersey Number    Height  Weight  \n",
       "0            4  Medium/ Medium       RF             10  5.583333     159  \n",
       "1            5       High/ Low       ST              7  6.166667     183  \n",
       "2            5    High/ Medium       LW             10  5.750000     150  \n",
       "3            1  Medium/ Medium       GK              1  6.333333     168  \n",
       "4            4      High/ High      RCM              7  5.083333     154  "
      ]
     },
     "execution_count": 247,
     "metadata": {},
     "output_type": "execute_result"
    }
   ],
   "source": [
    "df= pd.read_csv('fifa_stats.csv')\n",
    "df.head()"
   ]
  },
  {
   "cell_type": "code",
   "execution_count": 248,
   "metadata": {},
   "outputs": [
    {
     "data": {
      "text/plain": [
       "(2000, 15)"
      ]
     },
     "execution_count": 248,
     "metadata": {},
     "output_type": "execute_result"
    }
   ],
   "source": [
    "df.shape"
   ]
  },
  {
   "cell_type": "code",
   "execution_count": 249,
   "metadata": {},
   "outputs": [
    {
     "name": "stdout",
     "output_type": "stream",
     "text": [
      "<class 'pandas.core.frame.DataFrame'>\n",
      "RangeIndex: 2000 entries, 0 to 1999\n",
      "Data columns (total 15 columns):\n",
      " #   Column                    Non-Null Count  Dtype  \n",
      "---  ------                    --------------  -----  \n",
      " 0   Name                      2000 non-null   object \n",
      " 1   Age                       2000 non-null   int64  \n",
      " 2   Nationality               2000 non-null   object \n",
      " 3   Overall_rating            2000 non-null   int64  \n",
      " 4   Potential                 2000 non-null   int64  \n",
      " 5   Club                      1981 non-null   object \n",
      " 6   Preferred Foot            2000 non-null   object \n",
      " 7   International Reputation  2000 non-null   int64  \n",
      " 8   Weak Foot                 2000 non-null   int64  \n",
      " 9   Skill Moves               2000 non-null   int64  \n",
      " 10  Work Rate                 2000 non-null   object \n",
      " 11  Position                  2000 non-null   object \n",
      " 12  Jersey Number             2000 non-null   int64  \n",
      " 13  Height                    2000 non-null   float64\n",
      " 14  Weight                    2000 non-null   int64  \n",
      "dtypes: float64(1), int64(8), object(6)\n",
      "memory usage: 234.5+ KB\n"
     ]
    }
   ],
   "source": [
    "df.info()"
   ]
  },
  {
   "cell_type": "code",
   "execution_count": 250,
   "metadata": {},
   "outputs": [
    {
     "data": {
      "text/html": [
       "<style  type=\"text/css\" >\n",
       "#T_99cf2_row0_col0,#T_99cf2_row0_col1,#T_99cf2_row0_col2,#T_99cf2_row0_col3,#T_99cf2_row0_col4,#T_99cf2_row0_col5,#T_99cf2_row0_col6,#T_99cf2_row0_col7,#T_99cf2_row0_col8{\n",
       "            background-color:  #08306b;\n",
       "            color:  #f1f1f1;\n",
       "        }#T_99cf2_row1_col0,#T_99cf2_row4_col0,#T_99cf2_row5_col0,#T_99cf2_row6_col6{\n",
       "            background-color:  #f5fafe;\n",
       "            color:  #000000;\n",
       "        }#T_99cf2_row1_col1,#T_99cf2_row1_col2,#T_99cf2_row3_col1,#T_99cf2_row3_col2,#T_99cf2_row4_col1,#T_99cf2_row4_col2,#T_99cf2_row5_col1,#T_99cf2_row5_col2,#T_99cf2_row6_col1{\n",
       "            background-color:  #f0f6fd;\n",
       "            color:  #000000;\n",
       "        }#T_99cf2_row1_col3,#T_99cf2_row1_col4,#T_99cf2_row1_col5,#T_99cf2_row1_col7,#T_99cf2_row2_col0,#T_99cf2_row2_col1,#T_99cf2_row2_col2,#T_99cf2_row2_col3,#T_99cf2_row2_col4,#T_99cf2_row2_col5,#T_99cf2_row2_col7,#T_99cf2_row2_col8,#T_99cf2_row3_col3,#T_99cf2_row3_col4,#T_99cf2_row3_col5,#T_99cf2_row3_col6,#T_99cf2_row3_col7,#T_99cf2_row4_col3,#T_99cf2_row4_col4,#T_99cf2_row4_col5,#T_99cf2_row4_col6,#T_99cf2_row4_col7,#T_99cf2_row5_col3,#T_99cf2_row5_col4,#T_99cf2_row5_col5,#T_99cf2_row5_col7,#T_99cf2_row6_col3,#T_99cf2_row6_col4,#T_99cf2_row6_col5,#T_99cf2_row6_col7,#T_99cf2_row7_col3,#T_99cf2_row7_col4,#T_99cf2_row7_col5,#T_99cf2_row7_col7{\n",
       "            background-color:  #f7fbff;\n",
       "            color:  #000000;\n",
       "        }#T_99cf2_row1_col6,#T_99cf2_row2_col6,#T_99cf2_row3_col0,#T_99cf2_row5_col6{\n",
       "            background-color:  #f6faff;\n",
       "            color:  #000000;\n",
       "        }#T_99cf2_row1_col8,#T_99cf2_row5_col8{\n",
       "            background-color:  #e8f1fa;\n",
       "            color:  #000000;\n",
       "        }#T_99cf2_row3_col8{\n",
       "            background-color:  #edf4fc;\n",
       "            color:  #000000;\n",
       "        }#T_99cf2_row4_col8{\n",
       "            background-color:  #e9f2fa;\n",
       "            color:  #000000;\n",
       "        }#T_99cf2_row6_col0{\n",
       "            background-color:  #f5f9fe;\n",
       "            color:  #000000;\n",
       "        }#T_99cf2_row6_col2{\n",
       "            background-color:  #eff6fc;\n",
       "            color:  #000000;\n",
       "        }#T_99cf2_row6_col8{\n",
       "            background-color:  #e7f0fa;\n",
       "            color:  #000000;\n",
       "        }#T_99cf2_row7_col0{\n",
       "            background-color:  #f4f9fe;\n",
       "            color:  #000000;\n",
       "        }#T_99cf2_row7_col1,#T_99cf2_row7_col2,#T_99cf2_row7_col6{\n",
       "            background-color:  #eef5fc;\n",
       "            color:  #000000;\n",
       "        }#T_99cf2_row7_col8{\n",
       "            background-color:  #e2edf8;\n",
       "            color:  #000000;\n",
       "        }</style><table id=\"T_99cf2_\" ><thead>    <tr>        <th class=\"blank level0\" ></th>        <th class=\"col_heading level0 col0\" >Age</th>        <th class=\"col_heading level0 col1\" >Overall_rating</th>        <th class=\"col_heading level0 col2\" >Potential</th>        <th class=\"col_heading level0 col3\" >International Reputation</th>        <th class=\"col_heading level0 col4\" >Weak Foot</th>        <th class=\"col_heading level0 col5\" >Skill Moves</th>        <th class=\"col_heading level0 col6\" >Jersey Number</th>        <th class=\"col_heading level0 col7\" >Height</th>        <th class=\"col_heading level0 col8\" >Weight</th>    </tr></thead><tbody>\n",
       "                <tr>\n",
       "                        <th id=\"T_99cf2_level0_row0\" class=\"row_heading level0 row0\" >count</th>\n",
       "                        <td id=\"T_99cf2_row0_col0\" class=\"data row0 col0\" >2000.000000</td>\n",
       "                        <td id=\"T_99cf2_row0_col1\" class=\"data row0 col1\" >2000.000000</td>\n",
       "                        <td id=\"T_99cf2_row0_col2\" class=\"data row0 col2\" >2000.000000</td>\n",
       "                        <td id=\"T_99cf2_row0_col3\" class=\"data row0 col3\" >2000.000000</td>\n",
       "                        <td id=\"T_99cf2_row0_col4\" class=\"data row0 col4\" >2000.000000</td>\n",
       "                        <td id=\"T_99cf2_row0_col5\" class=\"data row0 col5\" >2000.000000</td>\n",
       "                        <td id=\"T_99cf2_row0_col6\" class=\"data row0 col6\" >2000.000000</td>\n",
       "                        <td id=\"T_99cf2_row0_col7\" class=\"data row0 col7\" >2000.000000</td>\n",
       "                        <td id=\"T_99cf2_row0_col8\" class=\"data row0 col8\" >2000.000000</td>\n",
       "            </tr>\n",
       "            <tr>\n",
       "                        <th id=\"T_99cf2_level0_row1\" class=\"row_heading level0 row1\" >mean</th>\n",
       "                        <td id=\"T_99cf2_row1_col0\" class=\"data row1 col0\" >27.231500</td>\n",
       "                        <td id=\"T_99cf2_row1_col1\" class=\"data row1 col1\" >78.197000</td>\n",
       "                        <td id=\"T_99cf2_row1_col2\" class=\"data row1 col2\" >80.303500</td>\n",
       "                        <td id=\"T_99cf2_row1_col3\" class=\"data row1 col3\" >1.774500</td>\n",
       "                        <td id=\"T_99cf2_row1_col4\" class=\"data row1 col4\" >3.204000</td>\n",
       "                        <td id=\"T_99cf2_row1_col5\" class=\"data row1 col5\" >2.919500</td>\n",
       "                        <td id=\"T_99cf2_row1_col6\" class=\"data row1 col6\" >15.205500</td>\n",
       "                        <td id=\"T_99cf2_row1_col7\" class=\"data row1 col7\" >5.781042</td>\n",
       "                        <td id=\"T_99cf2_row1_col8\" class=\"data row1 col8\" >169.478000</td>\n",
       "            </tr>\n",
       "            <tr>\n",
       "                        <th id=\"T_99cf2_level0_row2\" class=\"row_heading level0 row2\" >std</th>\n",
       "                        <td id=\"T_99cf2_row2_col0\" class=\"data row2 col0\" >3.859061</td>\n",
       "                        <td id=\"T_99cf2_row2_col1\" class=\"data row2 col1\" >3.285969</td>\n",
       "                        <td id=\"T_99cf2_row2_col2\" class=\"data row2 col2\" >4.114104</td>\n",
       "                        <td id=\"T_99cf2_row2_col3\" class=\"data row2 col3\" >0.811775</td>\n",
       "                        <td id=\"T_99cf2_row2_col4\" class=\"data row2 col4\" >0.728457</td>\n",
       "                        <td id=\"T_99cf2_row2_col5\" class=\"data row2 col5\" >0.964098</td>\n",
       "                        <td id=\"T_99cf2_row2_col6\" class=\"data row2 col6\" >13.210508</td>\n",
       "                        <td id=\"T_99cf2_row2_col7\" class=\"data row2 col7\" >0.443337</td>\n",
       "                        <td id=\"T_99cf2_row2_col8\" class=\"data row2 col8\" >16.050306</td>\n",
       "            </tr>\n",
       "            <tr>\n",
       "                        <th id=\"T_99cf2_level0_row3\" class=\"row_heading level0 row3\" >min</th>\n",
       "                        <td id=\"T_99cf2_row3_col0\" class=\"data row3 col0\" >17.000000</td>\n",
       "                        <td id=\"T_99cf2_row3_col1\" class=\"data row3 col1\" >75.000000</td>\n",
       "                        <td id=\"T_99cf2_row3_col2\" class=\"data row3 col2\" >75.000000</td>\n",
       "                        <td id=\"T_99cf2_row3_col3\" class=\"data row3 col3\" >1.000000</td>\n",
       "                        <td id=\"T_99cf2_row3_col4\" class=\"data row3 col4\" >1.000000</td>\n",
       "                        <td id=\"T_99cf2_row3_col5\" class=\"data row3 col5\" >1.000000</td>\n",
       "                        <td id=\"T_99cf2_row3_col6\" class=\"data row3 col6\" >1.000000</td>\n",
       "                        <td id=\"T_99cf2_row3_col7\" class=\"data row3 col7\" >5.083333</td>\n",
       "                        <td id=\"T_99cf2_row3_col8\" class=\"data row3 col8\" >123.000000</td>\n",
       "            </tr>\n",
       "            <tr>\n",
       "                        <th id=\"T_99cf2_level0_row4\" class=\"row_heading level0 row4\" >25%</th>\n",
       "                        <td id=\"T_99cf2_row4_col0\" class=\"data row4 col0\" >24.000000</td>\n",
       "                        <td id=\"T_99cf2_row4_col1\" class=\"data row4 col1\" >76.000000</td>\n",
       "                        <td id=\"T_99cf2_row4_col2\" class=\"data row4 col2\" >77.000000</td>\n",
       "                        <td id=\"T_99cf2_row4_col3\" class=\"data row4 col3\" >1.000000</td>\n",
       "                        <td id=\"T_99cf2_row4_col4\" class=\"data row4 col4\" >3.000000</td>\n",
       "                        <td id=\"T_99cf2_row4_col5\" class=\"data row4 col5\" >2.000000</td>\n",
       "                        <td id=\"T_99cf2_row4_col6\" class=\"data row4 col6\" >7.000000</td>\n",
       "                        <td id=\"T_99cf2_row4_col7\" class=\"data row4 col7\" >5.500000</td>\n",
       "                        <td id=\"T_99cf2_row4_col8\" class=\"data row4 col8\" >159.000000</td>\n",
       "            </tr>\n",
       "            <tr>\n",
       "                        <th id=\"T_99cf2_level0_row5\" class=\"row_heading level0 row5\" >50%</th>\n",
       "                        <td id=\"T_99cf2_row5_col0\" class=\"data row5 col0\" >27.000000</td>\n",
       "                        <td id=\"T_99cf2_row5_col1\" class=\"data row5 col1\" >77.000000</td>\n",
       "                        <td id=\"T_99cf2_row5_col2\" class=\"data row5 col2\" >80.000000</td>\n",
       "                        <td id=\"T_99cf2_row5_col3\" class=\"data row5 col3\" >2.000000</td>\n",
       "                        <td id=\"T_99cf2_row5_col4\" class=\"data row5 col4\" >3.000000</td>\n",
       "                        <td id=\"T_99cf2_row5_col5\" class=\"data row5 col5\" >3.000000</td>\n",
       "                        <td id=\"T_99cf2_row5_col6\" class=\"data row5 col6\" >12.000000</td>\n",
       "                        <td id=\"T_99cf2_row5_col7\" class=\"data row5 col7\" >6.000000</td>\n",
       "                        <td id=\"T_99cf2_row5_col8\" class=\"data row5 col8\" >170.000000</td>\n",
       "            </tr>\n",
       "            <tr>\n",
       "                        <th id=\"T_99cf2_level0_row6\" class=\"row_heading level0 row6\" >75%</th>\n",
       "                        <td id=\"T_99cf2_row6_col0\" class=\"data row6 col0\" >30.000000</td>\n",
       "                        <td id=\"T_99cf2_row6_col1\" class=\"data row6 col1\" >80.000000</td>\n",
       "                        <td id=\"T_99cf2_row6_col2\" class=\"data row6 col2\" >83.000000</td>\n",
       "                        <td id=\"T_99cf2_row6_col3\" class=\"data row6 col3\" >2.000000</td>\n",
       "                        <td id=\"T_99cf2_row6_col4\" class=\"data row6 col4\" >4.000000</td>\n",
       "                        <td id=\"T_99cf2_row6_col5\" class=\"data row6 col5\" >4.000000</td>\n",
       "                        <td id=\"T_99cf2_row6_col6\" class=\"data row6 col6\" >20.000000</td>\n",
       "                        <td id=\"T_99cf2_row6_col7\" class=\"data row6 col7\" >6.166667</td>\n",
       "                        <td id=\"T_99cf2_row6_col8\" class=\"data row6 col8\" >181.000000</td>\n",
       "            </tr>\n",
       "            <tr>\n",
       "                        <th id=\"T_99cf2_level0_row7\" class=\"row_heading level0 row7\" >max</th>\n",
       "                        <td id=\"T_99cf2_row7_col0\" class=\"data row7 col0\" >41.000000</td>\n",
       "                        <td id=\"T_99cf2_row7_col1\" class=\"data row7 col1\" >94.000000</td>\n",
       "                        <td id=\"T_99cf2_row7_col2\" class=\"data row7 col2\" >95.000000</td>\n",
       "                        <td id=\"T_99cf2_row7_col3\" class=\"data row7 col3\" >5.000000</td>\n",
       "                        <td id=\"T_99cf2_row7_col4\" class=\"data row7 col4\" >5.000000</td>\n",
       "                        <td id=\"T_99cf2_row7_col5\" class=\"data row7 col5\" >5.000000</td>\n",
       "                        <td id=\"T_99cf2_row7_col6\" class=\"data row7 col6\" >99.000000</td>\n",
       "                        <td id=\"T_99cf2_row7_col7\" class=\"data row7 col7\" >6.583333</td>\n",
       "                        <td id=\"T_99cf2_row7_col8\" class=\"data row7 col8\" >227.000000</td>\n",
       "            </tr>\n",
       "    </tbody></table>"
      ],
      "text/plain": [
       "<pandas.io.formats.style.Styler at 0x223246a4fd0>"
      ]
     },
     "execution_count": 250,
     "metadata": {},
     "output_type": "execute_result"
    }
   ],
   "source": [
    "## lets check descriptive statistics for numerical columns\n",
    "df.iloc[:,1:].describe().style.background_gradient(cmap = 'Blues')"
   ]
  },
  {
   "cell_type": "code",
   "execution_count": 251,
   "metadata": {},
   "outputs": [
    {
     "data": {
      "text/html": [
       "<div>\n",
       "<style scoped>\n",
       "    .dataframe tbody tr th:only-of-type {\n",
       "        vertical-align: middle;\n",
       "    }\n",
       "\n",
       "    .dataframe tbody tr th {\n",
       "        vertical-align: top;\n",
       "    }\n",
       "\n",
       "    .dataframe thead th {\n",
       "        text-align: right;\n",
       "    }\n",
       "</style>\n",
       "<table border=\"1\" class=\"dataframe\">\n",
       "  <thead>\n",
       "    <tr style=\"text-align: right;\">\n",
       "      <th></th>\n",
       "      <th>Name</th>\n",
       "      <th>Nationality</th>\n",
       "      <th>Club</th>\n",
       "      <th>Preferred Foot</th>\n",
       "      <th>Work Rate</th>\n",
       "      <th>Position</th>\n",
       "    </tr>\n",
       "  </thead>\n",
       "  <tbody>\n",
       "    <tr>\n",
       "      <th>count</th>\n",
       "      <td>2000</td>\n",
       "      <td>2000</td>\n",
       "      <td>1981</td>\n",
       "      <td>2000</td>\n",
       "      <td>2000</td>\n",
       "      <td>2000</td>\n",
       "    </tr>\n",
       "    <tr>\n",
       "      <th>unique</th>\n",
       "      <td>1970</td>\n",
       "      <td>95</td>\n",
       "      <td>285</td>\n",
       "      <td>2</td>\n",
       "      <td>8</td>\n",
       "      <td>27</td>\n",
       "    </tr>\n",
       "    <tr>\n",
       "      <th>top</th>\n",
       "      <td>Paulinho</td>\n",
       "      <td>Spain</td>\n",
       "      <td>Chelsea</td>\n",
       "      <td>Right</td>\n",
       "      <td>Medium/ Medium</td>\n",
       "      <td>GK</td>\n",
       "    </tr>\n",
       "    <tr>\n",
       "      <th>freq</th>\n",
       "      <td>3</td>\n",
       "      <td>251</td>\n",
       "      <td>24</td>\n",
       "      <td>1534</td>\n",
       "      <td>733</td>\n",
       "      <td>194</td>\n",
       "    </tr>\n",
       "  </tbody>\n",
       "</table>\n",
       "</div>"
      ],
      "text/plain": [
       "            Name Nationality     Club Preferred Foot       Work Rate Position\n",
       "count       2000        2000     1981           2000            2000     2000\n",
       "unique      1970          95      285              2               8       27\n",
       "top     Paulinho       Spain  Chelsea          Right  Medium/ Medium       GK\n",
       "freq           3         251       24           1534             733      194"
      ]
     },
     "execution_count": 251,
     "metadata": {},
     "output_type": "execute_result"
    }
   ],
   "source": [
    "# lets check descriptive statistics for categorical columns\n",
    "df.describe(include = 'object')"
   ]
  },
  {
   "cell_type": "code",
   "execution_count": 252,
   "metadata": {},
   "outputs": [
    {
     "data": {
      "text/html": [
       "<style  type=\"text/css\" >\n",
       "#T_92aa5_row0_col0,#T_92aa5_row0_col1,#T_92aa5_row2_col0,#T_92aa5_row2_col1,#T_92aa5_row3_col0,#T_92aa5_row3_col1,#T_92aa5_row4_col0,#T_92aa5_row4_col1,#T_92aa5_row5_col0,#T_92aa5_row5_col1,#T_92aa5_row6_col0,#T_92aa5_row6_col1,#T_92aa5_row7_col0,#T_92aa5_row7_col1,#T_92aa5_row8_col0,#T_92aa5_row8_col1,#T_92aa5_row9_col0,#T_92aa5_row9_col1,#T_92aa5_row10_col0,#T_92aa5_row10_col1,#T_92aa5_row11_col0,#T_92aa5_row11_col1,#T_92aa5_row12_col0,#T_92aa5_row12_col1,#T_92aa5_row13_col0,#T_92aa5_row13_col1,#T_92aa5_row14_col0,#T_92aa5_row14_col1{\n",
       "            width:  10em;\n",
       "             height:  80%;\n",
       "        }#T_92aa5_row1_col0,#T_92aa5_row1_col1{\n",
       "            width:  10em;\n",
       "             height:  80%;\n",
       "            background:  linear-gradient(90deg,gold 100.0%, transparent 100.0%);\n",
       "        }</style><table id=\"T_92aa5_\" ><thead>    <tr>        <th class=\"blank level0\" ></th>        <th class=\"col_heading level0 col0\" >df_Total</th>        <th class=\"col_heading level0 col1\" >df_Percent %</th>    </tr></thead><tbody>\n",
       "                <tr>\n",
       "                        <th id=\"T_92aa5_level0_row0\" class=\"row_heading level0 row0\" >Age</th>\n",
       "                        <td id=\"T_92aa5_row0_col0\" class=\"data row0 col0\" >0</td>\n",
       "                        <td id=\"T_92aa5_row0_col1\" class=\"data row0 col1\" >0.000000</td>\n",
       "            </tr>\n",
       "            <tr>\n",
       "                        <th id=\"T_92aa5_level0_row1\" class=\"row_heading level0 row1\" >Club</th>\n",
       "                        <td id=\"T_92aa5_row1_col0\" class=\"data row1 col0\" >19</td>\n",
       "                        <td id=\"T_92aa5_row1_col1\" class=\"data row1 col1\" >0.950000</td>\n",
       "            </tr>\n",
       "            <tr>\n",
       "                        <th id=\"T_92aa5_level0_row2\" class=\"row_heading level0 row2\" >Height</th>\n",
       "                        <td id=\"T_92aa5_row2_col0\" class=\"data row2 col0\" >0</td>\n",
       "                        <td id=\"T_92aa5_row2_col1\" class=\"data row2 col1\" >0.000000</td>\n",
       "            </tr>\n",
       "            <tr>\n",
       "                        <th id=\"T_92aa5_level0_row3\" class=\"row_heading level0 row3\" >International Reputation</th>\n",
       "                        <td id=\"T_92aa5_row3_col0\" class=\"data row3 col0\" >0</td>\n",
       "                        <td id=\"T_92aa5_row3_col1\" class=\"data row3 col1\" >0.000000</td>\n",
       "            </tr>\n",
       "            <tr>\n",
       "                        <th id=\"T_92aa5_level0_row4\" class=\"row_heading level0 row4\" >Jersey Number</th>\n",
       "                        <td id=\"T_92aa5_row4_col0\" class=\"data row4 col0\" >0</td>\n",
       "                        <td id=\"T_92aa5_row4_col1\" class=\"data row4 col1\" >0.000000</td>\n",
       "            </tr>\n",
       "            <tr>\n",
       "                        <th id=\"T_92aa5_level0_row5\" class=\"row_heading level0 row5\" >Name</th>\n",
       "                        <td id=\"T_92aa5_row5_col0\" class=\"data row5 col0\" >0</td>\n",
       "                        <td id=\"T_92aa5_row5_col1\" class=\"data row5 col1\" >0.000000</td>\n",
       "            </tr>\n",
       "            <tr>\n",
       "                        <th id=\"T_92aa5_level0_row6\" class=\"row_heading level0 row6\" >Nationality</th>\n",
       "                        <td id=\"T_92aa5_row6_col0\" class=\"data row6 col0\" >0</td>\n",
       "                        <td id=\"T_92aa5_row6_col1\" class=\"data row6 col1\" >0.000000</td>\n",
       "            </tr>\n",
       "            <tr>\n",
       "                        <th id=\"T_92aa5_level0_row7\" class=\"row_heading level0 row7\" >Overall_rating</th>\n",
       "                        <td id=\"T_92aa5_row7_col0\" class=\"data row7 col0\" >0</td>\n",
       "                        <td id=\"T_92aa5_row7_col1\" class=\"data row7 col1\" >0.000000</td>\n",
       "            </tr>\n",
       "            <tr>\n",
       "                        <th id=\"T_92aa5_level0_row8\" class=\"row_heading level0 row8\" >Position</th>\n",
       "                        <td id=\"T_92aa5_row8_col0\" class=\"data row8 col0\" >0</td>\n",
       "                        <td id=\"T_92aa5_row8_col1\" class=\"data row8 col1\" >0.000000</td>\n",
       "            </tr>\n",
       "            <tr>\n",
       "                        <th id=\"T_92aa5_level0_row9\" class=\"row_heading level0 row9\" >Potential</th>\n",
       "                        <td id=\"T_92aa5_row9_col0\" class=\"data row9 col0\" >0</td>\n",
       "                        <td id=\"T_92aa5_row9_col1\" class=\"data row9 col1\" >0.000000</td>\n",
       "            </tr>\n",
       "            <tr>\n",
       "                        <th id=\"T_92aa5_level0_row10\" class=\"row_heading level0 row10\" >Preferred Foot</th>\n",
       "                        <td id=\"T_92aa5_row10_col0\" class=\"data row10 col0\" >0</td>\n",
       "                        <td id=\"T_92aa5_row10_col1\" class=\"data row10 col1\" >0.000000</td>\n",
       "            </tr>\n",
       "            <tr>\n",
       "                        <th id=\"T_92aa5_level0_row11\" class=\"row_heading level0 row11\" >Skill Moves</th>\n",
       "                        <td id=\"T_92aa5_row11_col0\" class=\"data row11 col0\" >0</td>\n",
       "                        <td id=\"T_92aa5_row11_col1\" class=\"data row11 col1\" >0.000000</td>\n",
       "            </tr>\n",
       "            <tr>\n",
       "                        <th id=\"T_92aa5_level0_row12\" class=\"row_heading level0 row12\" >Weak Foot</th>\n",
       "                        <td id=\"T_92aa5_row12_col0\" class=\"data row12 col0\" >0</td>\n",
       "                        <td id=\"T_92aa5_row12_col1\" class=\"data row12 col1\" >0.000000</td>\n",
       "            </tr>\n",
       "            <tr>\n",
       "                        <th id=\"T_92aa5_level0_row13\" class=\"row_heading level0 row13\" >Weight</th>\n",
       "                        <td id=\"T_92aa5_row13_col0\" class=\"data row13 col0\" >0</td>\n",
       "                        <td id=\"T_92aa5_row13_col1\" class=\"data row13 col1\" >0.000000</td>\n",
       "            </tr>\n",
       "            <tr>\n",
       "                        <th id=\"T_92aa5_level0_row14\" class=\"row_heading level0 row14\" >Work Rate</th>\n",
       "                        <td id=\"T_92aa5_row14_col0\" class=\"data row14 col0\" >0</td>\n",
       "                        <td id=\"T_92aa5_row14_col1\" class=\"data row14 col1\" >0.000000</td>\n",
       "            </tr>\n",
       "    </tbody></table>"
      ],
      "text/plain": [
       "<pandas.io.formats.style.Styler at 0x223241cf6a0>"
      ]
     },
     "execution_count": 252,
     "metadata": {},
     "output_type": "execute_result"
    }
   ],
   "source": [
    "# missing value treatment\n",
    "\n",
    "# lets calculate the total missing values in the dataset\n",
    "df_total = df.isnull().sum()\n",
    "\n",
    "# lets calculate the percentage of missing values in the dataset\n",
    "df_percent = ((df.isnull().sum()/df.shape[0])*100).round(2)\n",
    "\n",
    "# lets make a dataset consisting of total no. of missing values and percentage of missing values in the dataset\n",
    "train_missing_data = pd.concat([df_total, df_percent],\n",
    "                                axis=1, \n",
    "                                keys=['df_Total', 'df_Percent %'],\n",
    "                                sort = True)\n",
    "\n",
    "# lets check the head\n",
    "train_missing_data.style.bar(color = ['gold'])"
   ]
  },
  {
   "cell_type": "code",
   "execution_count": 253,
   "metadata": {},
   "outputs": [
    {
     "data": {
      "text/plain": [
       "<AxesSubplot:>"
      ]
     },
     "execution_count": 253,
     "metadata": {},
     "output_type": "execute_result"
    },
    {
     "data": {
      "image/png": "[encoded data removed]",
      "text/plain": [
       "<Figure size 576x288 with 1 Axes>"
      ]
     },
     "metadata": {},
     "output_type": "display_data"
    }
   ],
   "source": [
    "sns.heatmap(df.isnull(),cbar=False)\n"
   ]
  },
  {
   "cell_type": "code",
   "execution_count": 254,
   "metadata": {},
   "outputs": [],
   "source": [
    "# club has 19 missing values (categorical column)\n",
    "# we can impute mode values as it values missing are not much"
   ]
  },
  {
   "cell_type": "code",
   "execution_count": 255,
   "metadata": {},
   "outputs": [
    {
     "name": "stdout",
     "output_type": "stream",
     "text": [
      "Number of Missing Values Left in the Training Data : 0\n"
     ]
    }
   ],
   "source": [
    "df['Club'] = df['Club'].fillna(df['Club'].mode()[0])\n",
    "\n",
    "# lets check whether the Null values are still present or not?\n",
    "print(\"Number of Missing Values Left in the Training Data :\", df.isnull().sum().sum())"
   ]
  },
  {
   "cell_type": "code",
   "execution_count": 256,
   "metadata": {},
   "outputs": [
    {
     "data": {
      "text/html": [
       "<div>\n",
       "<style scoped>\n",
       "    .dataframe tbody tr th:only-of-type {\n",
       "        vertical-align: middle;\n",
       "    }\n",
       "\n",
       "    .dataframe tbody tr th {\n",
       "        vertical-align: top;\n",
       "    }\n",
       "\n",
       "    .dataframe thead th {\n",
       "        text-align: right;\n",
       "    }\n",
       "</style>\n",
       "<table border=\"1\" class=\"dataframe\">\n",
       "  <thead>\n",
       "    <tr style=\"text-align: right;\">\n",
       "      <th></th>\n",
       "      <th>Age</th>\n",
       "      <th>Overall_rating</th>\n",
       "      <th>Potential</th>\n",
       "      <th>International Reputation</th>\n",
       "      <th>Weak Foot</th>\n",
       "      <th>Skill Moves</th>\n",
       "      <th>Jersey Number</th>\n",
       "      <th>Height</th>\n",
       "      <th>Weight</th>\n",
       "    </tr>\n",
       "  </thead>\n",
       "  <tbody>\n",
       "    <tr>\n",
       "      <th>0</th>\n",
       "      <td>31</td>\n",
       "      <td>94</td>\n",
       "      <td>94</td>\n",
       "      <td>5</td>\n",
       "      <td>4</td>\n",
       "      <td>4</td>\n",
       "      <td>10</td>\n",
       "      <td>5.583333</td>\n",
       "      <td>159</td>\n",
       "    </tr>\n",
       "    <tr>\n",
       "      <th>1</th>\n",
       "      <td>33</td>\n",
       "      <td>94</td>\n",
       "      <td>94</td>\n",
       "      <td>5</td>\n",
       "      <td>4</td>\n",
       "      <td>5</td>\n",
       "      <td>7</td>\n",
       "      <td>6.166667</td>\n",
       "      <td>183</td>\n",
       "    </tr>\n",
       "    <tr>\n",
       "      <th>2</th>\n",
       "      <td>26</td>\n",
       "      <td>92</td>\n",
       "      <td>93</td>\n",
       "      <td>5</td>\n",
       "      <td>5</td>\n",
       "      <td>5</td>\n",
       "      <td>10</td>\n",
       "      <td>5.750000</td>\n",
       "      <td>150</td>\n",
       "    </tr>\n",
       "    <tr>\n",
       "      <th>3</th>\n",
       "      <td>27</td>\n",
       "      <td>91</td>\n",
       "      <td>93</td>\n",
       "      <td>4</td>\n",
       "      <td>3</td>\n",
       "      <td>1</td>\n",
       "      <td>1</td>\n",
       "      <td>6.333333</td>\n",
       "      <td>168</td>\n",
       "    </tr>\n",
       "    <tr>\n",
       "      <th>4</th>\n",
       "      <td>27</td>\n",
       "      <td>91</td>\n",
       "      <td>92</td>\n",
       "      <td>4</td>\n",
       "      <td>5</td>\n",
       "      <td>4</td>\n",
       "      <td>7</td>\n",
       "      <td>5.083333</td>\n",
       "      <td>154</td>\n",
       "    </tr>\n",
       "  </tbody>\n",
       "</table>\n",
       "</div>"
      ],
      "text/plain": [
       "   Age  Overall_rating  Potential  International Reputation  Weak Foot  \\\n",
       "0   31              94         94                         5          4   \n",
       "1   33              94         94                         5          4   \n",
       "2   26              92         93                         5          5   \n",
       "3   27              91         93                         4          3   \n",
       "4   27              91         92                         4          5   \n",
       "\n",
       "   Skill Moves  Jersey Number    Height  Weight  \n",
       "0            4             10  5.583333     159  \n",
       "1            5              7  6.166667     183  \n",
       "2            5             10  5.750000     150  \n",
       "3            1              1  6.333333     168  \n",
       "4            4              7  5.083333     154  "
      ]
     },
     "execution_count": 256,
     "metadata": {},
     "output_type": "execute_result"
    }
   ],
   "source": [
    "# Lets first analyze the Numberical Columns\n",
    "df.select_dtypes('number').head()"
   ]
  },
  {
   "cell_type": "code",
   "execution_count": 257,
   "metadata": {},
   "outputs": [
    {
     "data": {
      "image/png": "[encoded data removed]",
      "text/plain": [
       "<Figure size 1080x576 with 1 Axes>"
      ]
     },
     "metadata": {},
     "output_type": "display_data"
    }
   ],
   "source": [
    "# lets check for outliers.\n",
    "df[['Overall_rating','Potential']].plot(kind='box',figsize=(15,8))\n",
    "plt.show()"
   ]
  },
  {
   "cell_type": "code",
   "execution_count": 258,
   "metadata": {},
   "outputs": [
    {
     "data": {
      "image/png": "[encoded data removed]",
      "text/plain": [
       "<Figure size 1080x576 with 1 Axes>"
      ]
     },
     "metadata": {},
     "output_type": "display_data"
    }
   ],
   "source": [
    "df[['Jersey Number','Weight']].plot(kind='box',figsize=(15,8))\n",
    "plt.show()"
   ]
  },
  {
   "cell_type": "code",
   "execution_count": 259,
   "metadata": {},
   "outputs": [
    {
     "data": {
      "image/png": "[encoded data removed]",
      "text/plain": [
       "<Figure size 1080x576 with 1 Axes>"
      ]
     },
     "metadata": {},
     "output_type": "display_data"
    }
   ],
   "source": [
    "df[['International Reputation','Weak Foot','Skill Moves','Height']].plot(kind='box',figsize=(15,8))\n",
    "plt.show()"
   ]
  },
  {
   "cell_type": "code",
   "execution_count": 260,
   "metadata": {},
   "outputs": [
    {
     "data": {
      "image/png": "[encoded data removed]",
      "text/plain": [
       "<Figure size 1080x576 with 1 Axes>"
      ]
     },
     "metadata": {},
     "output_type": "display_data"
    }
   ],
   "source": [
    "df[['Age']].plot(kind='box',figsize=(15,8))\n",
    "plt.show()"
   ]
  },
  {
   "cell_type": "code",
   "execution_count": 261,
   "metadata": {},
   "outputs": [
    {
     "data": {
      "text/plain": [
       "Text(0, 0.5, 'Range')"
      ]
     },
     "execution_count": 261,
     "metadata": {},
     "output_type": "execute_result"
    },
    {
     "data": {
      "image/png": "[encoded data removed]",
      "text/plain": [
       "<Figure size 1080x360 with 1 Axes>"
      ]
     },
     "metadata": {},
     "output_type": "display_data"
    }
   ],
   "source": [
    "plt.rcParams['figure.figsize'] = (15, 5)\n",
    "plt.style.use('fivethirtyeight')\n",
    "\n",
    "# Distribution plot for Age\n",
    "plt.subplot(1, 2, 1)\n",
    "sns.distplot(df['Age'], color = 'darkblue')\n",
    "plt.xlabel('Age', fontsize = 12)\n",
    "plt.ylabel('Range', fontsize = 12)\n"
   ]
  },
  {
   "cell_type": "code",
   "execution_count": 262,
   "metadata": {},
   "outputs": [
    {
     "data": {
      "text/plain": [
       "Text(0.5, 1.0, 'International Reputation')"
      ]
     },
     "execution_count": 262,
     "metadata": {},
     "output_type": "execute_result"
    },
    {
     "data": {
      "image/png": "[encoded data removed]",
      "text/plain": [
       "<Figure size 1152x360 with 1 Axes>"
      ]
     },
     "metadata": {},
     "output_type": "display_data"
    }
   ],
   "source": [
    "plt.rcParams['figure.figsize'] = (16,5)\n",
    "plt.style.use('fivethirtyeight')\n",
    "\n",
    "\n",
    "plt.subplot(1, 3, 1)\n",
    "labels = ['1','2','3','4','5']\n",
    "sizes = df['International Reputation'].value_counts()\n",
    "colors = plt.cm.Wistia(np.linspace(0, 1, 5))\n",
    "\n",
    "plt.pie(sizes, labels = labels, colors = colors, shadow = True, startangle = 90)\n",
    "plt.title('International Reputation', fontsize = 20)"
   ]
  },
  {
   "cell_type": "code",
   "execution_count": null,
   "metadata": {},
   "outputs": [],
   "source": []
  },
  {
   "cell_type": "code",
   "execution_count": 263,
   "metadata": {},
   "outputs": [
    {
     "data": {
      "image/png": "[encoded data removed]",
      "text/plain": [
       "<Figure size 1080x576 with 2 Axes>"
      ]
     },
     "metadata": {},
     "output_type": "display_data"
    }
   ],
   "source": [
    "# lets check the Heat Map for the Data with respect to correlation.\n",
    "\n",
    "plt.rcParams['figure.figsize'] = (15, 8)\n",
    "sns.heatmap(df.corr(), annot = True, linewidth = 0.5)\n",
    "plt.title('Correlation Heat Map', fontsize = 15)\n",
    "plt.show()"
   ]
  },
  {
   "cell_type": "code",
   "execution_count": 264,
   "metadata": {},
   "outputs": [],
   "source": [
    "# lets remove some of the columns which are not very correlated\n",
    "# jersey number has least correrelation with each feature\n",
    "\n",
    "df = df.drop(['Jersey Number'], axis = 1)\n"
   ]
  },
  {
   "cell_type": "code",
   "execution_count": 265,
   "metadata": {},
   "outputs": [],
   "source": [
    "## for international reputation i think 4 and 5 its important for overall rating\n",
    "## we only have 3 outliers in potential so it may help in gettong overall rating"
   ]
  },
  {
   "cell_type": "code",
   "execution_count": 266,
   "metadata": {},
   "outputs": [],
   "source": [
    "# columns needs to remove outliers\n",
    "## weight\n"
   ]
  },
  {
   "cell_type": "code",
   "execution_count": 267,
   "metadata": {},
   "outputs": [
    {
     "data": {
      "text/plain": [
       "array([0.65298571, 0.84268685, 1.21386292, ..., 0.03253088, 0.65298571,\n",
       "       1.65010075])"
      ]
     },
     "execution_count": 267,
     "metadata": {},
     "output_type": "execute_result"
    }
   ],
   "source": [
    "z=np.abs(stats.zscore(df['Weight']))\n",
    "z"
   ]
  },
  {
   "cell_type": "code",
   "execution_count": 268,
   "metadata": {},
   "outputs": [
    {
     "name": "stdout",
     "output_type": "stream",
     "text": [
      "(array([ 259, 1204, 1426, 1930], dtype=int64),)\n"
     ]
    }
   ],
   "source": [
    "threshold=3\n",
    "print(np.where(z>threshold))"
   ]
  },
  {
   "cell_type": "code",
   "execution_count": 269,
   "metadata": {},
   "outputs": [],
   "source": [
    "df_new=df[(z<3)]"
   ]
  },
  {
   "cell_type": "code",
   "execution_count": 270,
   "metadata": {},
   "outputs": [
    {
     "data": {
      "text/plain": [
       "(1996, 14)"
      ]
     },
     "execution_count": 270,
     "metadata": {},
     "output_type": "execute_result"
    }
   ],
   "source": [
    "df_new.shape"
   ]
  },
  {
   "cell_type": "code",
   "execution_count": null,
   "metadata": {},
   "outputs": [],
   "source": []
  },
  {
   "cell_type": "markdown",
   "metadata": {},
   "source": [
    "a)\tAssuming age as population, perform the central limit theorem with sample size of 200. Find the standard error and the mean of sampling distribution. Compare the results with population mean and standard deviation. Explain in non-technical terms why the estimated standard error of a sample mean tends to decrease with an increase in sample size"
   ]
  },
  {
   "cell_type": "code",
   "execution_count": 271,
   "metadata": {},
   "outputs": [],
   "source": [
    "no_of_sample = 100\n",
    "sample_size = 200\n",
    "sample_mean_list=[]\n",
    "for i in range(no_of_sample):\n",
    "    sample = np.random.choice(df_new['Age'],size=sample_size,replace=True) # selecting sample with replacement\n",
    "    sample_mean = np.mean(sample) # sample mean\n",
    "    sample_mean_list.append(sample_mean)"
   ]
  },
  {
   "cell_type": "code",
   "execution_count": 272,
   "metadata": {},
   "outputs": [
    {
     "data": {
      "image/png": "[encoded data removed]",
      "text/plain": [
       "<Figure size 1080x576 with 1 Axes>"
      ]
     },
     "metadata": {},
     "output_type": "display_data"
    }
   ],
   "source": [
    "sns.distplot(sample_mean_list)\n",
    "plt.show()"
   ]
  },
  {
   "cell_type": "code",
   "execution_count": 273,
   "metadata": {},
   "outputs": [
    {
     "data": {
      "text/plain": [
       "27.217349999999996"
      ]
     },
     "execution_count": 273,
     "metadata": {},
     "output_type": "execute_result"
    }
   ],
   "source": [
    "np.mean(sample_mean_list)\n",
    "#mean of sampling distribution"
   ]
  },
  {
   "cell_type": "code",
   "execution_count": 274,
   "metadata": {},
   "outputs": [
    {
     "data": {
      "text/plain": [
       "27.2315"
      ]
     },
     "execution_count": 274,
     "metadata": {},
     "output_type": "execute_result"
    }
   ],
   "source": [
    "np.mean(df['Age']) #mean of the population"
   ]
  },
  {
   "cell_type": "code",
   "execution_count": 275,
   "metadata": {},
   "outputs": [],
   "source": [
    "# since mean of sampling distribution is nearly equal to mean of the population .\n",
    "# this proves central limit theorem."
   ]
  },
  {
   "cell_type": "code",
   "execution_count": 276,
   "metadata": {},
   "outputs": [
    {
     "name": "stdout",
     "output_type": "stream",
     "text": [
      "standard error : 0.026324176625300184\n",
      "mean of sampling distribution: 27.217349999999996\n",
      "population mean : 27.228957915831664\n",
      "population standard deviation : 3.858621650059651\n"
     ]
    }
   ],
   "source": [
    "sigma=np.std(sample_mean_list)\n",
    "n=len(sample_mean_list)\n",
    "print('standard error :',sigma/n**0.5)\n",
    "\n",
    "sampling_mean_dist=np.mean(sample_mean_list)\n",
    "print('mean of sampling distribution:',sampling_mean_dist)\n",
    "\n",
    "pop_mean=np.mean(df_new['Age'])\n",
    "print('population mean :',pop_mean)\n",
    "\n",
    "pop_std=np.std(df_new['Age'])\n",
    "print('population standard deviation :',pop_std)"
   ]
  },
  {
   "cell_type": "raw",
   "metadata": {},
   "source": [
    "As you increase your sample size, the standard error of the sample mean will become smaller because with the bigger sample size the mean will tend to become more accurate and closer to the population mean and therefore standard error will reduce."
   ]
  },
  {
   "cell_type": "code",
   "execution_count": null,
   "metadata": {},
   "outputs": [],
   "source": []
  },
  {
   "cell_type": "markdown",
   "metadata": {},
   "source": [
    "b) Is there any evidence that the players overall rating is greater than 80?"
   ]
  },
  {
   "cell_type": "code",
   "execution_count": 277,
   "metadata": {},
   "outputs": [
    {
     "name": "stdout",
     "output_type": "stream",
     "text": [
      "Performing one sample t test --- one tail - right ---\n",
      "t values is:  43.483857841154325\n",
      "p values is:  1.9420185661770447e-291\n",
      "Ha is selected\n"
     ]
    }
   ],
   "source": [
    "######################################## Hypothesis formation #######################################\n",
    "\n",
    "# H0 = overall rating <= 80\n",
    "# Ha = overall rating > 80\n",
    "\n",
    "\n",
    "####################################### Choosing the right step ######################################\n",
    "\n",
    "### data is normal and pop standard deviation is not known \n",
    "### go with one sample t test (one tail left test)\n",
    "\n",
    "print ('Performing one sample t test --- one tail - right ---')\n",
    "\n",
    "####################################### Calculating test stats ######################################\n",
    "\n",
    "\n",
    "x_bar = np.mean(df_new['Overall_rating'])\n",
    "n= len(df_new['Overall_rating'])\n",
    "s = np.std(df_new['Overall_rating'], ddof=1)\n",
    "mu = 75\n",
    "\n",
    "\n",
    "t = (x_bar-mu)/(s/n**0.5)\n",
    "\n",
    "print('t values is: ',t)\n",
    "\n",
    "\n",
    "########################################### Calculating p val #######################################\n",
    "\n",
    "pval=stats.t.sf(t,df =n-1)\n",
    "print('p values is: ',pval)\n",
    "\n",
    "############################################# inference #############################################\n",
    "\n",
    "sig_lvl =0.05\n",
    "if pval<sig_lvl:\n",
    "    print ('Ha is selected')\n",
    "else:\n",
    "    print('Ho is selected')"
   ]
  },
  {
   "cell_type": "code",
   "execution_count": 278,
   "metadata": {},
   "outputs": [],
   "source": [
    "## Alternate hypothesis selected therefore there is evidence of overall rating greater than 80"
   ]
  },
  {
   "cell_type": "markdown",
   "metadata": {},
   "source": [
    "c)\tPerform the statistical test to identify whether preferred foot has any impact on potential. Also, perform the graphical analysis."
   ]
  },
  {
   "cell_type": "code",
   "execution_count": 279,
   "metadata": {},
   "outputs": [],
   "source": [
    "#H0:TWO features are not related:>no impact\n",
    "#Ha:TWO feautures are related :>impact"
   ]
  },
  {
   "cell_type": "code",
   "execution_count": 280,
   "metadata": {},
   "outputs": [],
   "source": [
    "obs=pd.crosstab(df_new['Preferred Foot'],df_new['Potential'])"
   ]
  },
  {
   "cell_type": "code",
   "execution_count": 281,
   "metadata": {},
   "outputs": [
    {
     "data": {
      "text/plain": [
       "0.07502661950432309"
      ]
     },
     "execution_count": 281,
     "metadata": {},
     "output_type": "execute_result"
    }
   ],
   "source": [
    "# calculating p value\n",
    "\n",
    "t,p,dof,exp=stats.chi2_contingency(obs.values)\n",
    "p"
   ]
  },
  {
   "cell_type": "code",
   "execution_count": 282,
   "metadata": {},
   "outputs": [
    {
     "name": "stdout",
     "output_type": "stream",
     "text": [
      "ho is selected\n"
     ]
    }
   ],
   "source": [
    "if p<0.05:\n",
    "    print('ha is selected')\n",
    "else:\n",
    "    print('ho is selected')"
   ]
  },
  {
   "cell_type": "code",
   "execution_count": 283,
   "metadata": {},
   "outputs": [],
   "source": [
    "#two features are not related \n",
    "#preferred foot is not having any impact on potential."
   ]
  },
  {
   "cell_type": "code",
   "execution_count": 284,
   "metadata": {},
   "outputs": [],
   "source": [
    "#graphical analysis."
   ]
  },
  {
   "cell_type": "code",
   "execution_count": 285,
   "metadata": {},
   "outputs": [
    {
     "data": {
      "image/png": "[encoded data removed]",
      "text/plain": [
       "<Figure size 1080x576 with 1 Axes>"
      ]
     },
     "metadata": {},
     "output_type": "display_data"
    }
   ],
   "source": [
    "obs.T.plot.bar(stacked=True,figsize=(15,8))\n",
    "plt.show()"
   ]
  },
  {
   "cell_type": "markdown",
   "metadata": {},
   "source": [
    "d)\tPerform the statistical test to identify the relation between the overall rating and potential. [Assume both are continuous data points]."
   ]
  },
  {
   "cell_type": "code",
   "execution_count": 286,
   "metadata": {},
   "outputs": [],
   "source": [
    "#HO:no relation btwn categorical features\n",
    "#Ha:significant relation between categorical features"
   ]
  },
  {
   "cell_type": "code",
   "execution_count": 287,
   "metadata": {},
   "outputs": [],
   "source": [
    "obs_val=pd.crosstab(df_new['Potential'],df_new['Overall_rating'])\n"
   ]
  },
  {
   "cell_type": "code",
   "execution_count": 288,
   "metadata": {},
   "outputs": [
    {
     "data": {
      "text/plain": [
       "(8587.409749611486, 0.0, 360)"
      ]
     },
     "execution_count": 288,
     "metadata": {},
     "output_type": "execute_result"
    }
   ],
   "source": [
    "t,p,dof,exp=stats.chi2_contingency(obs_val)\n",
    "t,p,dof"
   ]
  },
  {
   "cell_type": "code",
   "execution_count": 289,
   "metadata": {},
   "outputs": [
    {
     "name": "stdout",
     "output_type": "stream",
     "text": [
      "ha is selected\n"
     ]
    }
   ],
   "source": [
    "pval=0.0\n",
    "sig_lvl=0.05\n",
    "if pval<sig_lvl:\n",
    "    print('ha is selected')\n",
    "else:\n",
    "    print('ho is selected')"
   ]
  },
  {
   "cell_type": "code",
   "execution_count": 290,
   "metadata": {},
   "outputs": [],
   "source": [
    "#there is significant relationship between overall rating and potential."
   ]
  },
  {
   "cell_type": "code",
   "execution_count": null,
   "metadata": {},
   "outputs": [],
   "source": []
  },
  {
   "cell_type": "markdown",
   "metadata": {},
   "source": [
    "e)\tDoes skill move have any effect in overall rating. Perform the graphical analysis and the statistical analysis."
   ]
  },
  {
   "cell_type": "code",
   "execution_count": 291,
   "metadata": {},
   "outputs": [],
   "source": [
    "#HO:no relation btwn categorical features\n",
    "#Ha:significant relation between categorical features"
   ]
  },
  {
   "cell_type": "code",
   "execution_count": 292,
   "metadata": {},
   "outputs": [],
   "source": [
    "skill_move=df_new['Skill Moves']\n",
    "overall_rating=df_new['Overall_rating']"
   ]
  },
  {
   "cell_type": "code",
   "execution_count": 293,
   "metadata": {},
   "outputs": [],
   "source": [
    "obs_val=pd.crosstab(skill_move,overall_rating)"
   ]
  },
  {
   "cell_type": "code",
   "execution_count": 294,
   "metadata": {},
   "outputs": [
    {
     "data": {
      "text/plain": [
       "(264.5604461791655, 8.345038393386111e-24, 72)"
      ]
     },
     "execution_count": 294,
     "metadata": {},
     "output_type": "execute_result"
    }
   ],
   "source": [
    "t,p,dof,exp=stats.chi2_contingency(obs_val)\n",
    "t,p,dof"
   ]
  },
  {
   "cell_type": "code",
   "execution_count": 295,
   "metadata": {},
   "outputs": [
    {
     "name": "stdout",
     "output_type": "stream",
     "text": [
      "Ha is selected\n"
     ]
    }
   ],
   "source": [
    "if p<0.05:\n",
    "    print('Ha is selected')\n",
    "else:\n",
    "    print('H0 is selected')"
   ]
  },
  {
   "cell_type": "code",
   "execution_count": 296,
   "metadata": {},
   "outputs": [],
   "source": [
    "#ha is selected means skill have effect in overall rating"
   ]
  },
  {
   "cell_type": "code",
   "execution_count": 297,
   "metadata": {},
   "outputs": [
    {
     "data": {
      "image/png": "[encoded data removed]",
      "text/plain": [
       "<Figure size 1080x576 with 1 Axes>"
      ]
     },
     "metadata": {},
     "output_type": "display_data"
    }
   ],
   "source": [
    "#graphical analysis\n",
    "obs_val.T.plot.bar(stacked=True,figsize=(15,8))\n",
    "plt.show()"
   ]
  },
  {
   "cell_type": "code",
   "execution_count": null,
   "metadata": {},
   "outputs": [],
   "source": []
  },
  {
   "cell_type": "markdown",
   "metadata": {},
   "source": [
    "##### 2. Perform the following statistical analysis on the mobile network dataset given. The given data set contains information about the internet, calls, messages of various network. Data Cleaning and basic EDA process needs to be performed. \n",
    "\n",
    "a) With 95% & 99% Confidence Interval find the range estimate of average duration calls made by all the network. Which of the Intervals are wider? Interpret the results.\n",
    "\n",
    "b) Perform statistical analysis to check whether the networks are equally distributed in the dataset.\n",
    "\n",
    "c) Plot the distribution of duration with respect to each network in the same graph and Interpret the results from the graph.\n",
    "\n",
    "d)\tPerform statistical tests to identify the relation between item and duration. Detailed \n",
    "explanation of relation between the classes is required.\n",
    "\n",
    "e)\tPerform statistical tests to identify the relation between network and network_type. \n"
   ]
  },
  {
   "cell_type": "code",
   "execution_count": 298,
   "metadata": {},
   "outputs": [
    {
     "data": {
      "text/html": [
       "<div>\n",
       "<style scoped>\n",
       "    .dataframe tbody tr th:only-of-type {\n",
       "        vertical-align: middle;\n",
       "    }\n",
       "\n",
       "    .dataframe tbody tr th {\n",
       "        vertical-align: top;\n",
       "    }\n",
       "\n",
       "    .dataframe thead th {\n",
       "        text-align: right;\n",
       "    }\n",
       "</style>\n",
       "<table border=\"1\" class=\"dataframe\">\n",
       "  <thead>\n",
       "    <tr style=\"text-align: right;\">\n",
       "      <th></th>\n",
       "      <th>date</th>\n",
       "      <th>duration</th>\n",
       "      <th>item</th>\n",
       "      <th>month</th>\n",
       "      <th>network</th>\n",
       "      <th>network_type</th>\n",
       "    </tr>\n",
       "  </thead>\n",
       "  <tbody>\n",
       "    <tr>\n",
       "      <th>0</th>\n",
       "      <td>15-10-14 6:58</td>\n",
       "      <td>221.321120</td>\n",
       "      <td>data</td>\n",
       "      <td>2014-11</td>\n",
       "      <td>data</td>\n",
       "      <td>data</td>\n",
       "    </tr>\n",
       "    <tr>\n",
       "      <th>1</th>\n",
       "      <td>15-10-14 6:58</td>\n",
       "      <td>81.610599</td>\n",
       "      <td>call</td>\n",
       "      <td>2014-11</td>\n",
       "      <td>Vodafone</td>\n",
       "      <td>mobile</td>\n",
       "    </tr>\n",
       "    <tr>\n",
       "      <th>2</th>\n",
       "      <td>15-10-14 14:46</td>\n",
       "      <td>143.109111</td>\n",
       "      <td>call</td>\n",
       "      <td>2014-11</td>\n",
       "      <td>Meteor</td>\n",
       "      <td>mobile</td>\n",
       "    </tr>\n",
       "    <tr>\n",
       "      <th>3</th>\n",
       "      <td>15-10-14 14:48</td>\n",
       "      <td>111.888670</td>\n",
       "      <td>call</td>\n",
       "      <td>2014-11</td>\n",
       "      <td>Tesco</td>\n",
       "      <td>mobile</td>\n",
       "    </tr>\n",
       "    <tr>\n",
       "      <th>4</th>\n",
       "      <td>15-10-14 17:27</td>\n",
       "      <td>246.695171</td>\n",
       "      <td>call</td>\n",
       "      <td>2014-11</td>\n",
       "      <td>Tesco</td>\n",
       "      <td>mobile</td>\n",
       "    </tr>\n",
       "  </tbody>\n",
       "</table>\n",
       "</div>"
      ],
      "text/plain": [
       "             date    duration  item    month   network network_type\n",
       "0   15-10-14 6:58  221.321120  data  2014-11      data         data\n",
       "1   15-10-14 6:58   81.610599  call  2014-11  Vodafone       mobile\n",
       "2  15-10-14 14:46  143.109111  call  2014-11    Meteor       mobile\n",
       "3  15-10-14 14:48  111.888670  call  2014-11     Tesco       mobile\n",
       "4  15-10-14 17:27  246.695171  call  2014-11     Tesco       mobile"
      ]
     },
     "execution_count": 298,
     "metadata": {},
     "output_type": "execute_result"
    }
   ],
   "source": [
    "df=pd.read_csv('phone.csv')\n",
    "df.head()"
   ]
  },
  {
   "cell_type": "code",
   "execution_count": 299,
   "metadata": {},
   "outputs": [
    {
     "name": "stdout",
     "output_type": "stream",
     "text": [
      "<class 'pandas.core.frame.DataFrame'>\n",
      "RangeIndex: 820 entries, 0 to 819\n",
      "Data columns (total 6 columns):\n",
      " #   Column        Non-Null Count  Dtype  \n",
      "---  ------        --------------  -----  \n",
      " 0   date          820 non-null    object \n",
      " 1   duration      820 non-null    float64\n",
      " 2   item          820 non-null    object \n",
      " 3   month         820 non-null    object \n",
      " 4   network       820 non-null    object \n",
      " 5   network_type  820 non-null    object \n",
      "dtypes: float64(1), object(5)\n",
      "memory usage: 38.6+ KB\n"
     ]
    }
   ],
   "source": [
    "df.info()"
   ]
  },
  {
   "cell_type": "code",
   "execution_count": 300,
   "metadata": {},
   "outputs": [
    {
     "data": {
      "text/plain": [
       "date            0\n",
       "duration        0\n",
       "item            0\n",
       "month           0\n",
       "network         0\n",
       "network_type    0\n",
       "dtype: int64"
      ]
     },
     "execution_count": 300,
     "metadata": {},
     "output_type": "execute_result"
    }
   ],
   "source": [
    "#data cleaning \n",
    "missing_values=df.isnull().sum()\n",
    "missing_values"
   ]
  },
  {
   "cell_type": "code",
   "execution_count": 301,
   "metadata": {},
   "outputs": [],
   "source": [
    "# no missing value"
   ]
  },
  {
   "cell_type": "code",
   "execution_count": 302,
   "metadata": {},
   "outputs": [
    {
     "data": {
      "image/png": "[encoded data removed]",
      "text/plain": [
       "<Figure size 1080x576 with 1 Axes>"
      ]
     },
     "metadata": {},
     "output_type": "display_data"
    }
   ],
   "source": [
    "sns.boxplot(data=df,x='duration')\n",
    "plt.show()"
   ]
  },
  {
   "cell_type": "code",
   "execution_count": 303,
   "metadata": {},
   "outputs": [],
   "source": [
    "Q1 = df['duration'].quantile(0.25)\n",
    "Q2 = df['duration'].quantile(0.5)\n",
    "Q3 = df['duration'].quantile(0.75)\n",
    "IQR = Q3 - Q1\n",
    "UL = Q3 + 1.5 * IQR\n",
    "LL = Q1 - 1.5 * IQR"
   ]
  },
  {
   "cell_type": "code",
   "execution_count": 304,
   "metadata": {},
   "outputs": [
    {
     "data": {
      "text/html": [
       "<div>\n",
       "<style scoped>\n",
       "    .dataframe tbody tr th:only-of-type {\n",
       "        vertical-align: middle;\n",
       "    }\n",
       "\n",
       "    .dataframe tbody tr th {\n",
       "        vertical-align: top;\n",
       "    }\n",
       "\n",
       "    .dataframe thead th {\n",
       "        text-align: right;\n",
       "    }\n",
       "</style>\n",
       "<table border=\"1\" class=\"dataframe\">\n",
       "  <thead>\n",
       "    <tr style=\"text-align: right;\">\n",
       "      <th></th>\n",
       "      <th>date</th>\n",
       "      <th>duration</th>\n",
       "      <th>item</th>\n",
       "      <th>month</th>\n",
       "      <th>network</th>\n",
       "      <th>network_type</th>\n",
       "    </tr>\n",
       "  </thead>\n",
       "  <tbody>\n",
       "    <tr>\n",
       "      <th>10</th>\n",
       "      <td>16-10-14 16:21</td>\n",
       "      <td>15.927469</td>\n",
       "      <td>call</td>\n",
       "      <td>2014-11</td>\n",
       "      <td>Three</td>\n",
       "      <td>mobile</td>\n",
       "    </tr>\n",
       "    <tr>\n",
       "      <th>587</th>\n",
       "      <td>14-01-15 23:35</td>\n",
       "      <td>14.173899</td>\n",
       "      <td>sms</td>\n",
       "      <td>2015-01</td>\n",
       "      <td>Three</td>\n",
       "      <td>mobile</td>\n",
       "    </tr>\n",
       "    <tr>\n",
       "      <th>721</th>\n",
       "      <td>12-02-15 6:58</td>\n",
       "      <td>0.993514</td>\n",
       "      <td>data</td>\n",
       "      <td>2015-02</td>\n",
       "      <td>data</td>\n",
       "      <td>data</td>\n",
       "    </tr>\n",
       "  </tbody>\n",
       "</table>\n",
       "</div>"
      ],
      "text/plain": [
       "               date   duration  item    month network network_type\n",
       "10   16-10-14 16:21  15.927469  call  2014-11   Three       mobile\n",
       "587  14-01-15 23:35  14.173899   sms  2015-01   Three       mobile\n",
       "721   12-02-15 6:58   0.993514  data  2015-02    data         data"
      ]
     },
     "execution_count": 304,
     "metadata": {},
     "output_type": "execute_result"
    }
   ],
   "source": [
    "df[(df['duration']<LL) | (df['duration']>UL)]"
   ]
  },
  {
   "cell_type": "code",
   "execution_count": 305,
   "metadata": {},
   "outputs": [],
   "source": [
    "df= df[~((df['duration']<LL) | (df['duration']>UL))]"
   ]
  },
  {
   "cell_type": "code",
   "execution_count": 306,
   "metadata": {},
   "outputs": [
    {
     "data": {
      "text/plain": [
       "(817, 6)"
      ]
     },
     "execution_count": 306,
     "metadata": {},
     "output_type": "execute_result"
    }
   ],
   "source": [
    "df.shape"
   ]
  },
  {
   "cell_type": "markdown",
   "metadata": {},
   "source": [
    "a) With 95% & 99% Confidence Interval find the range estimate of average duration calls made by all the network.\n",
    "#Which of the Intervals are wider? Interpret the results."
   ]
  },
  {
   "cell_type": "code",
   "execution_count": 307,
   "metadata": {},
   "outputs": [
    {
     "data": {
      "text/plain": [
       "Vodafone     215\n",
       "Three        213\n",
       "data         149\n",
       "Meteor        87\n",
       "Tesco         84\n",
       "landline      42\n",
       "voicemail     27\n",
       "Name: network, dtype: int64"
      ]
     },
     "execution_count": 307,
     "metadata": {},
     "output_type": "execute_result"
    }
   ],
   "source": [
    "df['network'].value_counts()"
   ]
  },
  {
   "cell_type": "code",
   "execution_count": 308,
   "metadata": {},
   "outputs": [],
   "source": [
    "group_a=df[df['network'] =='Three']['duration']\n",
    "group_b=df[df['network'] =='Vodafone']['duration']\n",
    "group_c=df[df['network'] =='data']['duration']\n",
    "group_d=df[df['network'] =='Meteor']['duration']\n",
    "group_e=df[df['network'] =='Tesco']['duration']\n",
    "group_f=df[df['network'] =='landline']['duration']\n",
    "group_g=df[df['network'] =='voicemail']['duration']"
   ]
  },
  {
   "cell_type": "code",
   "execution_count": 309,
   "metadata": {},
   "outputs": [],
   "source": [
    "#calculating standard deviation for all the networks\n",
    "sigma_a=np.std(group_a)\n",
    "sigma_b=np.std(group_b)\n",
    "sigma_c=np.std(group_c)\n",
    "sigma_d=np.std(group_d)\n",
    "sigma_e=np.std(group_e)\n",
    "sigma_f=np.std(group_f)\n",
    "sigma_g=np.std(group_g)\n",
    "#calculate mean for all the networks\n",
    "x_bar_a=np.mean(group_a)\n",
    "x_bar_b=np.mean(group_b)\n",
    "x_bar_c=np.mean(group_c)\n",
    "x_bar_d=np.mean(group_d)\n",
    "x_bar_e=np.mean(group_e)\n",
    "x_bar_f=np.mean(group_f)\n",
    "x_bar_g=np.mean(group_g)\n"
   ]
  },
  {
   "cell_type": "code",
   "execution_count": 310,
   "metadata": {},
   "outputs": [
    {
     "name": "stdout",
     "output_type": "stream",
     "text": [
      "lower limit of Three network, upper limit of Three network: (102.7582840557801, 182.53144326998495)\n",
      "lower limit of vodafone network, upper limit of vodafone network: (106.32065287767384, 192.89189061823325)\n",
      "lower limit of data network ,upper limit of data network: (105.11102607171611, 178.70512026801524)\n",
      "lower limit of meteor network upper limit of meteor network: (96.64421405171643, 182.86980932037565)\n",
      "lower limit of Tesco network upper limit of Tesco network: (101.906542977806, 188.66846495576544)\n",
      "lower limit of landline network upper limit of landline network: (99.32984756799073, 183.90543435843796)\n",
      "lower limit of voicemail network upper limit of voicemail network: (110.2169216187794, 207.93076123529465)\n"
     ]
    }
   ],
   "source": [
    "#for 95% confidence interval\n",
    "n=7\n",
    "print('lower limit of Three network, upper limit of Three network:',stats.t.interval(loc=x_bar_a,scale=sigma_a/n**0.5,alpha=0.95,df=n-1))\n",
    "print('lower limit of vodafone network, upper limit of vodafone network:',stats.t.interval(loc=x_bar_b,scale=sigma_b/n**0.5,alpha=0.95,df=n-1))\n",
    "print('lower limit of data network ,upper limit of data network:',stats.t.interval(loc=x_bar_c,scale=sigma_c/n**0.5,alpha=0.95,df=n-1))\n",
    "print('lower limit of meteor network upper limit of meteor network:',stats.t.interval(loc=x_bar_d,scale=sigma_d/n**0.5,alpha=0.95,df=n-1))\n",
    "print('lower limit of Tesco network upper limit of Tesco network:',stats.t.interval(loc=x_bar_e,scale=sigma_e/n**0.5,alpha=0.95,df=n-1))\n",
    "print('lower limit of landline network upper limit of landline network:',stats.t.interval(loc=x_bar_f,scale=sigma_f/n**0.5,alpha=0.95,df=n-1))\n",
    "print('lower limit of voicemail network upper limit of voicemail network:',stats.t.interval(loc=x_bar_g,scale=sigma_g/n**0.5,alpha=0.95,df=n-1))"
   ]
  },
  {
   "cell_type": "code",
   "execution_count": 311,
   "metadata": {},
   "outputs": [
    {
     "name": "stdout",
     "output_type": "stream",
     "text": [
      "lower limit of Three network, upper limit of Three network: (82.21088318123921, 203.07884414452585)\n",
      "lower limit of vodafone network, upper limit of vodafone network: (84.02225146568978, 215.1902920302173)\n",
      "lower limit of data network ,upper limit of data network: (86.15518465405773, 197.6609616856736)\n",
      "lower limit of meteor network upper limit of meteor network: (74.43484076020997, 205.07918261188212)\n",
      "lower limit of Tesco network upper limit of Tesco network: (79.5590264811881, 211.01598145238336)\n",
      "lower limit of landline network upper limit of landline network: (77.54547168140307, 205.68981024502563)\n",
      "lower limit of voicemail network upper limit of voicemail network: (85.0484883591672, 233.09919449490684)\n"
     ]
    }
   ],
   "source": [
    "#for 95% confidence interval\n",
    "\n",
    "\n",
    "print('lower limit of Three network, upper limit of Three network:',stats.t.interval(loc=x_bar_a,scale=sigma_a/n**0.5,alpha=0.99,df=n-1))\n",
    "print('lower limit of vodafone network, upper limit of vodafone network:',stats.t.interval(loc=x_bar_b,scale=sigma_b/n**0.5,alpha=0.99,df=n-1))\n",
    "print('lower limit of data network ,upper limit of data network:',stats.t.interval(loc=x_bar_c,scale=sigma_c/n**0.5,alpha=0.99,df=n-1))\n",
    "print('lower limit of meteor network upper limit of meteor network:',stats.t.interval(loc=x_bar_d,scale=sigma_d/n**0.5,alpha=0.99,df=n-1))\n",
    "print('lower limit of Tesco network upper limit of Tesco network:',stats.t.interval(loc=x_bar_e,scale=sigma_e/n**0.5,alpha=0.99,df=n-1))\n",
    "print('lower limit of landline network upper limit of landline network:',stats.t.interval(loc=x_bar_f,scale=sigma_f/n**0.5,alpha=0.99,df=n-1))\n",
    "print('lower limit of voicemail network upper limit of voicemail network:',stats.t.interval(loc=x_bar_g,scale=sigma_g/n**0.5,alpha=0.99,df=n-1))\n"
   ]
  },
  {
   "cell_type": "code",
   "execution_count": 312,
   "metadata": {},
   "outputs": [
    {
     "name": "stdout",
     "output_type": "stream",
     "text": [
      "the width of Three network for 95% Interval: 82.57063254419666\n",
      "the width of vodafone network for 95% Interval: 86.57123774055941\n",
      "the width of data network for 95% Interval: 76.35366034446389\n",
      "the width of meteor network for 95% Interval: 86.22559526865922\n",
      "the width of tesco network for 95% Interval: 86.76192197795945\n",
      "the width of landline network for 95% Interval: 84.57558679044723\n",
      "the width of voicemail network for 95% Interval: 97.71383961651526\n"
     ]
    }
   ],
   "source": [
    "#the greater the confidence level ,the wider the confidence interval.\n",
    "#width =Upper limit-lower limit \n",
    "#for confidence interval of 95%\n",
    "print('the width of Three network for 95% Interval:',182.7432573316517-100.17262478745505)\n",
    "print('the width of vodafone network for 95% Interval:',192.89189061823325-106.32065287767384)\n",
    "print('the width of data network for 95% Interval:',179.14547294936517-102.79181260490128)\n",
    "print('the width of meteor network for 95% Interval:',182.86980932037565-96.64421405171643)\n",
    "print('the width of tesco network for 95% Interval:',188.66846495576544-101.906542977806)\n",
    "print('the width of landline network for 95% Interval:',183.90543435843796-99.32984756799073)\n",
    "print('the width of voicemail network for 95% Interval:',207.93076123529465-110.2169216187794)"
   ]
  },
  {
   "cell_type": "code",
   "execution_count": 313,
   "metadata": {},
   "outputs": [
    {
     "name": "stdout",
     "output_type": "stream",
     "text": [
      "the width of Three network for 99% Interval: 125.10654071336722\n",
      "the width of vodafone network for 99% Interval: 131.16804056452753\n",
      "the width of data network for 99% Interval: 115.68692187729464\n",
      "the width of meteor network for 99% Interval: 130.64434185167215\n",
      "the width of tesco network for 99% Interval: 131.45695497119527\n",
      "the width of landline network for 99% Interval: 128.14433856362257\n",
      "the width of voicemail network for 99% Interval: 148.05070613573963\n"
     ]
    }
   ],
   "source": [
    "#the greater the confidence level ,the wider the confidence interval.\n",
    "#width =Upper limit-lower limit \n",
    "#for confidence interval of 99%\n",
    "\n",
    "print('the width of Three network for 99% Interval:',204.011211416237-78.90467070286977)\n",
    "print('the width of vodafone network for 99% Interval:',215.1902920302173-84.02225146568978)\n",
    "print('the width of data network for 99% Interval:',198.81210371578055-83.12518183848591)\n",
    "print('the width of meteor network for 99% Interval:',205.07918261188212-74.43484076020997)\n",
    "print('the width of tesco network for 99% Interval:',211.01598145238336-79.5590264811881)\n",
    "print('the width of landline network for 99% Interval:',205.68981024502563-77.54547168140307)\n",
    "print('the width of voicemail network for 99% Interval:',233.09919449490684-85.0484883591672)"
   ]
  },
  {
   "cell_type": "code",
   "execution_count": 314,
   "metadata": {},
   "outputs": [],
   "source": [
    "## the width of voicemail is greater among all the networks for both 95% and 99% confidence interval."
   ]
  },
  {
   "cell_type": "markdown",
   "metadata": {},
   "source": [
    "b) Perform statistical analysis to check whether the networks are equally distributed in the dataset."
   ]
  },
  {
   "cell_type": "code",
   "execution_count": 315,
   "metadata": {},
   "outputs": [
    {
     "data": {
      "text/plain": [
       "0.7490808367729187"
      ]
     },
     "execution_count": 315,
     "metadata": {},
     "output_type": "execute_result"
    }
   ],
   "source": [
    "stats.shapiro(group_a)[1]"
   ]
  },
  {
   "cell_type": "code",
   "execution_count": 316,
   "metadata": {},
   "outputs": [
    {
     "name": "stdout",
     "output_type": "stream",
     "text": [
      "shapiro of Three network: ShapiroResult(statistic=0.9952569007873535, pvalue=0.7490808367729187)\n",
      "Ho is selected\n",
      "\n",
      "shapiro of Vodafone network: ShapiroResult(statistic=0.9921150803565979, pvalue=0.3013075590133667)\n",
      "Ho is selected\n",
      "\n",
      "shapiro of data network: ShapiroResult(statistic=0.9919514656066895, pvalue=0.5642256140708923)\n",
      "Ho is selected\n",
      "\n",
      "shapiro of Meteor network: ShapiroResult(statistic=0.9902763962745667, pvalue=0.7697541117668152)\n",
      "Ho is selected\n",
      "\n",
      "shapiro of Tesco network: ShapiroResult(statistic=0.9873518347740173, pvalue=0.5880236029624939)\n",
      "Ho is selected\n",
      "\n",
      "shapiro of landline network: ShapiroResult(statistic=0.9797297120094299, pvalue=0.6510748267173767)\n",
      "Ho is selected\n",
      "\n",
      "shapiro of Voicemail network: ShapiroResult(statistic=0.9571559429168701, pvalue=0.31774839758872986)\n",
      "Ho is selected\n",
      "\n"
     ]
    }
   ],
   "source": [
    "#Test of normality:shapiro wilk test\n",
    "# Ho : skew=0 (Data is normal)\n",
    "# Ha : skew != 0 (Data is not normal)\n",
    "\n",
    "sig_lvl = 0.05  # default : 0.05\n",
    "\n",
    "\n",
    "print('shapiro of Three network:',stats.shapiro(group_a))\n",
    "pvalue = stats.shapiro(group_a)[1]\n",
    "if pvalue>=sig_lvl:\n",
    "    print('Ho is selected')\n",
    "else:\n",
    "    print('Ha is selected')\n",
    "print()\n",
    "\n",
    "print('shapiro of Vodafone network:',stats.shapiro(group_b))\n",
    "pvalue = stats.shapiro(group_b)[1]\n",
    "if pvalue>=sig_lvl:\n",
    "    print('Ho is selected')\n",
    "else:\n",
    "    print('Ha is selected')\n",
    "print()\n",
    "\n",
    "print('shapiro of data network:',stats.shapiro(group_c))\n",
    "pvalue = stats.shapiro(group_c)[1]\n",
    "if pvalue>=sig_lvl:\n",
    "    print('Ho is selected')\n",
    "else:\n",
    "    print('Ha is selected')\n",
    "print()\n",
    "\n",
    "print('shapiro of Meteor network:',stats.shapiro(group_d))\n",
    "pvalue = stats.shapiro(group_d)[1]\n",
    "if pvalue>=sig_lvl:\n",
    "    print('Ho is selected')\n",
    "else:\n",
    "    print('Ha is selected')\n",
    "print()\n",
    "\n",
    "print('shapiro of Tesco network:',stats.shapiro(group_e))\n",
    "pvalue = stats.shapiro(group_e)[1]\n",
    "if pvalue>=sig_lvl:\n",
    "    print('Ho is selected')\n",
    "else:\n",
    "    print('Ha is selected')\n",
    "print()\n",
    "\n",
    "print('shapiro of landline network:',stats.shapiro(group_f))\n",
    "pvalue = stats.shapiro(group_f)[1]\n",
    "if pvalue>=sig_lvl:\n",
    "    print('Ho is selected')\n",
    "else:\n",
    "    print('Ha is selected')\n",
    "print()\n",
    "\n",
    "print('shapiro of Voicemail network:',stats.shapiro(group_g))\n",
    "pvalue = stats.shapiro(group_g)[1]\n",
    "if pvalue>=sig_lvl:\n",
    "    print('Ho is selected')\n",
    "else:\n",
    "    print('Ha is selected')\n",
    "print()"
   ]
  },
  {
   "cell_type": "code",
   "execution_count": 317,
   "metadata": {},
   "outputs": [],
   "source": [
    "# for all H0 is selected so data is normal therefore all networks equally distributed"
   ]
  },
  {
   "cell_type": "markdown",
   "metadata": {},
   "source": [
    "c) Plot the distribution of duration with respect to each network in the same graph and Interpret the results from the graph."
   ]
  },
  {
   "cell_type": "code",
   "execution_count": 318,
   "metadata": {},
   "outputs": [
    {
     "data": {
      "text/plain": [
       "<seaborn.axisgrid.FacetGrid at 0x22320724c70>"
      ]
     },
     "execution_count": 318,
     "metadata": {},
     "output_type": "execute_result"
    },
    {
     "data": {
      "image/png": "[encoded data removed]",
      "text/plain": [
       "<Figure size 477.65x360 with 1 Axes>"
      ]
     },
     "metadata": {},
     "output_type": "display_data"
    }
   ],
   "source": [
    "sns.displot(df, x=\"duration\", hue=\"network\")\n"
   ]
  },
  {
   "cell_type": "code",
   "execution_count": 319,
   "metadata": {},
   "outputs": [],
   "source": [
    "## duration of around 150 for each network is higest and it looks like normal distributed "
   ]
  },
  {
   "cell_type": "markdown",
   "metadata": {},
   "source": [
    "d).Perform statistical tests to identify the relation between item and duration. Detailed explanation of relation between the classes is required."
   ]
  },
  {
   "cell_type": "code",
   "execution_count": 320,
   "metadata": {},
   "outputs": [],
   "source": [
    "#HO:no relation btwn categorical features i.e:between item and duration\n",
    "#Ha:significant relation between categorical features "
   ]
  },
  {
   "cell_type": "code",
   "execution_count": 321,
   "metadata": {},
   "outputs": [
    {
     "data": {
      "text/plain": [
       "call    387\n",
       "sms     281\n",
       "data    149\n",
       "Name: item, dtype: int64"
      ]
     },
     "execution_count": 321,
     "metadata": {},
     "output_type": "execute_result"
    }
   ],
   "source": [
    "df['item'].value_counts()"
   ]
  },
  {
   "cell_type": "code",
   "execution_count": 322,
   "metadata": {},
   "outputs": [],
   "source": [
    "item_a = df[df['item'] =='call']['duration']\n",
    "item_b = df[df['item'] =='sms']['duration']\n",
    "item_c = df[df['item'] =='data']['duration']"
   ]
  },
  {
   "cell_type": "code",
   "execution_count": 323,
   "metadata": {},
   "outputs": [
    {
     "name": "stdout",
     "output_type": "stream",
     "text": [
      "ShapiroResult(statistic=0.9969531297683716, pvalue=0.6871918439865112)\n",
      "ShapiroResult(statistic=0.9923015832901001, pvalue=0.1533391773700714)\n",
      "ShapiroResult(statistic=0.9919514656066895, pvalue=0.5642256140708923)\n"
     ]
    }
   ],
   "source": [
    "# Ho : All means are equal\n",
    "# Ha : Atleast one mean is not equal\n",
    "\n",
    "# Test of Normality - Shapiro\n",
    "\n",
    "# Ho : Data is normal\n",
    "# Ha : Data is not normal\n",
    "\n",
    "print(stats.shapiro(item_a))\n",
    "print(stats.shapiro(item_b))\n",
    "print(stats.shapiro(item_c))"
   ]
  },
  {
   "cell_type": "code",
   "execution_count": 324,
   "metadata": {},
   "outputs": [],
   "source": [
    "# All pvalues > 0.05,All data are normal\n",
    "            "
   ]
  },
  {
   "cell_type": "code",
   "execution_count": 325,
   "metadata": {},
   "outputs": [],
   "source": [
    "# Equality of Variance \n",
    "\n",
    "# Levene's Test\n",
    "\n",
    "# Ho : All variance are equal\n",
    "# Ha : Atleast one variance is not equal"
   ]
  },
  {
   "cell_type": "code",
   "execution_count": 326,
   "metadata": {},
   "outputs": [
    {
     "name": "stdout",
     "output_type": "stream",
     "text": [
      "LeveneResult(statistic=4.092515418119407, pvalue=0.017041963421727344)\n"
     ]
    }
   ],
   "source": [
    "print(stats.levene(item_a,item_b,item_c))"
   ]
  },
  {
   "cell_type": "code",
   "execution_count": 327,
   "metadata": {},
   "outputs": [],
   "source": [
    "# Data is normal\n",
    "# Data have equal variance\n",
    "# Pop std in unknow\n",
    "\n",
    "# Anova can be used"
   ]
  },
  {
   "cell_type": "code",
   "execution_count": 328,
   "metadata": {},
   "outputs": [
    {
     "data": {
      "text/plain": [
       "F_onewayResult(statistic=1.7983201078741975, pvalue=0.16623399843208436)"
      ]
     },
     "execution_count": 328,
     "metadata": {},
     "output_type": "execute_result"
    }
   ],
   "source": [
    "stats.f_oneway(item_a,item_b,item_c)"
   ]
  },
  {
   "cell_type": "code",
   "execution_count": 329,
   "metadata": {},
   "outputs": [
    {
     "name": "stdout",
     "output_type": "stream",
     "text": [
      "Ho is selected\n"
     ]
    }
   ],
   "source": [
    "pval=0.1456068656611744\n",
    "if pval<0.05:\n",
    "    print('Ha is selected')\n",
    "else:\n",
    "    print('Ho is selected')"
   ]
  },
  {
   "cell_type": "code",
   "execution_count": 330,
   "metadata": {},
   "outputs": [],
   "source": [
    "#Accept Null Hypothetis i.e. All mean are equal."
   ]
  },
  {
   "cell_type": "markdown",
   "metadata": {},
   "source": [
    "e).Perform statistical tests to identify the relation between network and network_type. "
   ]
  },
  {
   "cell_type": "code",
   "execution_count": 331,
   "metadata": {},
   "outputs": [],
   "source": [
    "#HO:no relation btwn categorical features\n",
    "#Ha:significant relation between categorical features"
   ]
  },
  {
   "cell_type": "code",
   "execution_count": 332,
   "metadata": {},
   "outputs": [
    {
     "data": {
      "text/html": [
       "<div>\n",
       "<style scoped>\n",
       "    .dataframe tbody tr th:only-of-type {\n",
       "        vertical-align: middle;\n",
       "    }\n",
       "\n",
       "    .dataframe tbody tr th {\n",
       "        vertical-align: top;\n",
       "    }\n",
       "\n",
       "    .dataframe thead th {\n",
       "        text-align: right;\n",
       "    }\n",
       "</style>\n",
       "<table border=\"1\" class=\"dataframe\">\n",
       "  <thead>\n",
       "    <tr style=\"text-align: right;\">\n",
       "      <th>network_type</th>\n",
       "      <th>data</th>\n",
       "      <th>landline</th>\n",
       "      <th>mobile</th>\n",
       "      <th>voicemail</th>\n",
       "    </tr>\n",
       "    <tr>\n",
       "      <th>network</th>\n",
       "      <th></th>\n",
       "      <th></th>\n",
       "      <th></th>\n",
       "      <th></th>\n",
       "    </tr>\n",
       "  </thead>\n",
       "  <tbody>\n",
       "    <tr>\n",
       "      <th>Meteor</th>\n",
       "      <td>0</td>\n",
       "      <td>0</td>\n",
       "      <td>87</td>\n",
       "      <td>0</td>\n",
       "    </tr>\n",
       "    <tr>\n",
       "      <th>Tesco</th>\n",
       "      <td>0</td>\n",
       "      <td>0</td>\n",
       "      <td>84</td>\n",
       "      <td>0</td>\n",
       "    </tr>\n",
       "    <tr>\n",
       "      <th>Three</th>\n",
       "      <td>0</td>\n",
       "      <td>0</td>\n",
       "      <td>213</td>\n",
       "      <td>0</td>\n",
       "    </tr>\n",
       "    <tr>\n",
       "      <th>Vodafone</th>\n",
       "      <td>0</td>\n",
       "      <td>0</td>\n",
       "      <td>215</td>\n",
       "      <td>0</td>\n",
       "    </tr>\n",
       "    <tr>\n",
       "      <th>data</th>\n",
       "      <td>149</td>\n",
       "      <td>0</td>\n",
       "      <td>0</td>\n",
       "      <td>0</td>\n",
       "    </tr>\n",
       "    <tr>\n",
       "      <th>landline</th>\n",
       "      <td>0</td>\n",
       "      <td>42</td>\n",
       "      <td>0</td>\n",
       "      <td>0</td>\n",
       "    </tr>\n",
       "    <tr>\n",
       "      <th>voicemail</th>\n",
       "      <td>0</td>\n",
       "      <td>0</td>\n",
       "      <td>0</td>\n",
       "      <td>27</td>\n",
       "    </tr>\n",
       "  </tbody>\n",
       "</table>\n",
       "</div>"
      ],
      "text/plain": [
       "network_type  data  landline  mobile  voicemail\n",
       "network                                        \n",
       "Meteor           0         0      87          0\n",
       "Tesco            0         0      84          0\n",
       "Three            0         0     213          0\n",
       "Vodafone         0         0     215          0\n",
       "data           149         0       0          0\n",
       "landline         0        42       0          0\n",
       "voicemail        0         0       0         27"
      ]
     },
     "execution_count": 332,
     "metadata": {},
     "output_type": "execute_result"
    }
   ],
   "source": [
    "obs_val=pd.crosstab(df['network'],df['network_type'])\n",
    "obs_val"
   ]
  },
  {
   "cell_type": "code",
   "execution_count": 333,
   "metadata": {},
   "outputs": [
    {
     "name": "stdout",
     "output_type": "stream",
     "text": [
      "Test stat: 2451.0\n",
      "pval: 0.0\n",
      "Degrees of freedom: 18\n",
      "Expected: [[ 15.86658507   4.47246022  63.78580171   2.875153  ]\n",
      " [ 15.31946144   4.31823745  61.58629131   2.77600979]\n",
      " [ 38.84577723  10.9498164  156.16523868   7.03916769]\n",
      " [ 39.21052632  11.05263158 157.63157895   7.10526316]\n",
      " [ 27.17380661   7.65973072 109.24235006   4.92411261]\n",
      " [  7.65973072   2.15911873  30.79314565   1.3880049 ]\n",
      " [  4.92411261   1.3880049   19.79559364   0.89228886]]\n"
     ]
    }
   ],
   "source": [
    "test_stat,pval,dof,exp = stats.chi2_contingency(obs_val)\n",
    "print('Test stat:',test_stat)\n",
    "print('pval:',pval)\n",
    "print('Degrees of freedom:',dof)\n",
    "print('Expected:',exp)"
   ]
  },
  {
   "cell_type": "code",
   "execution_count": 334,
   "metadata": {},
   "outputs": [
    {
     "name": "stdout",
     "output_type": "stream",
     "text": [
      "Ha is selected\n"
     ]
    }
   ],
   "source": [
    "pval = 0.0\n",
    "sig_lvl = 0.05\n",
    "if pval<sig_lvl:\n",
    "    print('Ha is selected')\n",
    "else:\n",
    "    print('Ho is selected')"
   ]
  },
  {
   "cell_type": "code",
   "execution_count": 335,
   "metadata": {},
   "outputs": [],
   "source": [
    "## there is significant relationship between network and network type."
   ]
  },
  {
   "cell_type": "code",
   "execution_count": null,
   "metadata": {},
   "outputs": [],
   "source": []
  },
  {
   "cell_type": "code",
   "execution_count": null,
   "metadata": {},
   "outputs": [],
   "source": []
  }
 ],
 "metadata": {
  "kernelspec": {
   "display_name": "Python 3",
   "language": "python",
   "name": "python3"
  },
  "language_info": {
   "codemirror_mode": {
    "name": "ipython",
    "version": 3
   },
   "file_extension": ".py",
   "mimetype": "text/x-python",
   "name": "python",
   "nbconvert_exporter": "python",
   "pygments_lexer": "ipython3",
   "version": "3.8.5"
  }
 },
 "nbformat": 4,
 "nbformat_minor": 5
}
