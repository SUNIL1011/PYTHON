{
 "cells": [
  {
   "cell_type": "code",
   "execution_count": 3,
   "metadata": {},
   "outputs": [],
   "source": [
    "dict_list_shipping={101:[1,3,'14-03-2020','25-03-2020','Area1','Area6','Delivered',198],\n",
    "                    102:[4,1,'18-06-2020','09-07-2020','Area2','Area4','Delivered',275],\n",
    "                    103:[2,3,'01-12-2020','Null','Area5','Area1','In Tansit',200],\n",
    "                    104:[1,5,'23-06-2020','25-06-2020','Area1','Area4','Delivered',314],\n",
    "                    105:[3,4,'29-08-2020','10-09-2020','Area5','Area3','Delivered',275],\n",
    "                    106:[5,2,'28-06-2020','Null','Area3','Area1','In Tansit',270],}"
   ]
  },
  {
   "cell_type": "code",
   "execution_count": 4,
   "metadata": {},
   "outputs": [
    {
     "data": {
      "text/plain": [
       "{101: [1, 3, '14-03-2020', '25-03-2020', 'Area1', 'Area6', 'Delivered', 198],\n",
       " 102: [4, 1, '18-06-2020', '09-07-2020', 'Area2', 'Area4', 'Delivered', 275],\n",
       " 103: [2, 3, '01-12-2020', 'Null', 'Area5', 'Area1', 'In Tansit', 200],\n",
       " 104: [1, 5, '23-06-2020', '25-06-2020', 'Area1', 'Area4', 'Delivered', 314],\n",
       " 105: [3, 4, '29-08-2020', '10-09-2020', 'Area5', 'Area3', 'Delivered', 275],\n",
       " 106: [5, 2, '28-06-2020', 'Null', 'Area3', 'Area1', 'In Tansit', 270]}"
      ]
     },
     "execution_count": 4,
     "metadata": {},
     "output_type": "execute_result"
    }
   ],
   "source": [
    "dict_list_shipping"
   ]
  },
  {
   "cell_type": "code",
   "execution_count": 5,
   "metadata": {},
   "outputs": [],
   "source": [
    "dict_client = {1: 'Phillip', 2: 'Omega III', 3: 'Ramya', 4: 'Romesh', 5: 'John'}"
   ]
  },
  {
   "cell_type": "code",
   "execution_count": 6,
   "metadata": {},
   "outputs": [
    {
     "data": {
      "text/plain": [
       "{1: 'Phillip', 2: 'Omega III', 3: 'Ramya', 4: 'Romesh', 5: 'John'}"
      ]
     },
     "execution_count": 6,
     "metadata": {},
     "output_type": "execute_result"
    }
   ],
   "source": [
    "dict_client"
   ]
  },
  {
   "cell_type": "code",
   "execution_count": 7,
   "metadata": {},
   "outputs": [
    {
     "name": "stdout",
     "output_type": "stream",
     "text": [
      "dict_keys([1, 2, 3, 4, 5])\n"
     ]
    }
   ],
   "source": [
    "print(dict_client.keys())"
   ]
  },
  {
   "cell_type": "code",
   "execution_count": 8,
   "metadata": {},
   "outputs": [
    {
     "name": "stdout",
     "output_type": "stream",
     "text": [
      "dict_items([(101, ['Phillip', 'Ramya', '14-03-2020', '25-03-2020', 'Area1', 'Area6', 'Delivered', 198]), (102, ['Romesh', 'Phillip', '18-06-2020', '09-07-2020', 'Area2', 'Area4', 'Delivered', 275]), (103, ['Omega III', 'Ramya', '01-12-2020', 'Null', 'Area5', 'Area1', 'In Tansit', 200]), (104, ['Phillip', 'John', '23-06-2020', '25-06-2020', 'Area1', 'Area4', 'Delivered', 314]), (105, ['Ramya', 'Romesh', '29-08-2020', '10-09-2020', 'Area5', 'Area3', 'Delivered', 275]), (106, ['John', 'Omega III', '28-06-2020', 'Null', 'Area3', 'Area1', 'In Tansit', 270])])\n"
     ]
    }
   ],
   "source": [
    "shipment_dictionary={i:[dict_client [j[k]] if j[k] in dict_client.keys() else j[k] for k in range(0,len(j))] for i,j in dict_list_shipping.items() }\n",
    "print(shipment_dictionary.items())"
   ]
  },
  {
   "cell_type": "code",
   "execution_count": 9,
   "metadata": {},
   "outputs": [
    {
     "name": "stdout",
     "output_type": "stream",
     "text": [
      "dict_items([(101, ['Phillip', 'Ramya', '14-03-2020', '25-03-2020', 'Area1', 'Area6', 'Delivered', 198]), (102, ['Romesh', 'Phillip', '18-06-2020', '09-07-2020', 'Area2', 'Area4', 'Delivered', 275]), (103, ['Omega III', 'Ramya', '01-12-2020', 'Null', 'Area5', 'Area1', 'In Tansit', 200]), (104, ['Phillip', 'John', '23-06-2020', '25-06-2020', 'Area1', 'Area4', 'Delivered', 314]), (105, ['Ramya', 'Romesh', '29-08-2020', '10-09-2020', 'Area5', 'Area3', 'Delivered', 275]), (106, ['John', 'Omega III', '28-06-2020', 'Null', 'Area3', 'Area1', 'In Tansit', 270])])\n"
     ]
    }
   ],
   "source": [
    "print(shipment_dictionary.items())"
   ]
  },
  {
   "cell_type": "code",
   "execution_count": 10,
   "metadata": {},
   "outputs": [
    {
     "name": "stdout",
     "output_type": "stream",
     "text": [
      "Details of shipment details that are sent by Phillip \n",
      "['Phillip', 'Ramya', '14-03-2020', '25-03-2020', 'Area1', 'Area6', 'Delivered', 198]\n",
      "\n",
      "Details of shipment details that are sent by Phillip \n",
      "['Phillip', 'John', '23-06-2020', '25-06-2020', 'Area1', 'Area4', 'Delivered', 314]\n",
      "\n"
     ]
    }
   ],
   "source": [
    "for i in shipment_dictionary.values():\n",
    "    if i[0] =='Phillip':\n",
    "        print('Details of shipment details that are sent by Phillip ')\n",
    "        print(i)\n",
    "        print()"
   ]
  },
  {
   "cell_type": "code",
   "execution_count": 11,
   "metadata": {},
   "outputs": [
    {
     "name": "stdout",
     "output_type": "stream",
     "text": [
      "Details of shipment details that are sent by Ramya \n",
      "['Phillip', 'Ramya', '14-03-2020', '25-03-2020', 'Area1', 'Area6', 'Delivered', 198]\n",
      "\n",
      "Details of shipment details that are sent by Ramya \n",
      "['Omega III', 'Ramya', '01-12-2020', 'Null', 'Area5', 'Area1', 'In Tansit', 200]\n",
      "\n"
     ]
    }
   ],
   "source": [
    "for i in shipment_dictionary.values():\n",
    "    if i[1] =='Ramya':\n",
    "        print('Details of shipment details that are sent by Ramya ')\n",
    "        print(i)\n",
    "        print()"
   ]
  },
  {
   "cell_type": "code",
   "execution_count": 12,
   "metadata": {},
   "outputs": [
    {
     "name": "stdout",
     "output_type": "stream",
     "text": [
      "Details of shipment details that are sent by In Tansit \n",
      "['Omega III', 'Ramya', '01-12-2020', 'Null', 'Area5', 'Area1', 'In Tansit', 200]\n",
      "\n",
      "Details of shipment details that are sent by In Tansit \n",
      "['John', 'Omega III', '28-06-2020', 'Null', 'Area3', 'Area1', 'In Tansit', 270]\n",
      "\n"
     ]
    }
   ],
   "source": [
    "for i in shipment_dictionary.values():\n",
    "    if i[-2] =='In Tansit':\n",
    "        print('Details of shipment details that are sent by In Tansit ')\n",
    "        print(i)\n",
    "        print()"
   ]
  },
  {
   "cell_type": "code",
   "execution_count": 13,
   "metadata": {},
   "outputs": [
    {
     "name": "stdout",
     "output_type": "stream",
     "text": [
      "['Phillip', 'John', '23-06-2020', '25-06-2020', 'Area1', 'Area4', 'Delivered', 314]\n"
     ]
    }
   ],
   "source": [
    "for key in shipment_dictionary.values():\n",
    "    if key[3] != \"Null\" and (int(key[3].split('-')[0])-int(key[2].split('-')[0])) < 7 and (int(key[3].split('-')[1])-int(key[2].split('-')[1]))==0:\n",
    "        print(key)"
   ]
  },
  {
   "cell_type": "code",
   "execution_count": 18,
   "metadata": {},
   "outputs": [
    {
     "name": "stdout",
     "output_type": "stream",
     "text": [
      "['Phillip', 'John', '23-06-2020', '25-06-2020', 'Area1', 'Area4', 'Delivered', 314]\n"
     ]
    }
   ],
   "source": [
    "from datetime import datetime\n",
    "\n",
    "for k in shipment_dictionary.values():\n",
    "    if k[3] == \"Null\":\n",
    "        continue\n",
    "\n",
    "    start_date = datetime.strptime(k[2], \"%d-%m-%Y\")\n",
    "    delivery_date = datetime.strptime(k[3], \"%d-%m-%Y\")\n",
    "\n",
    "    if (delivery_date - start_date).days <= 7:\n",
    "        print(k)"
   ]
  },
  {
   "cell_type": "code",
   "execution_count": 20,
   "metadata": {},
   "outputs": [
    {
     "name": "stdout",
     "output_type": "stream",
     "text": [
      "['Romesh', 'Phillip', '18-06-2020', '09-07-2020', 'Area2', 'Area4', 'Delivered', 275]\n",
      "\n",
      "['Omega III', 'Ramya', '01-12-2020', 'Null', 'Area5', 'Area1', 'In Tansit', 200]\n",
      "\n",
      "['John', 'Omega III', '28-06-2020', 'Null', 'Area3', 'Area1', 'In Tansit', 270]\n",
      "\n"
     ]
    }
   ],
   "source": [
    "from datetime import datetime\n",
    "\n",
    "for k in shipment_dictionary.values():\n",
    "    if k[3] == \"Null\":\n",
    "        print(k)\n",
    "        print()\n",
    "        continue\n",
    "\n",
    "    start_date = datetime.strptime(k[2], \"%d-%m-%Y\")\n",
    "    delivery_date = datetime.strptime(k[3], \"%d-%m-%Y\")\n",
    "\n",
    "    if (delivery_date - start_date).days > 15:\n",
    "        print(k)\n",
    "        print()"
   ]
  },
  {
   "cell_type": "code",
   "execution_count": 1,
   "metadata": {},
   "outputs": [],
   "source": [
    "graph={1: [2], 2: [1, 3, 4], 3: [2, 4], 4: [2, 3, 5], 5: [4]}"
   ]
  },
  {
   "cell_type": "code",
   "execution_count": 2,
   "metadata": {},
   "outputs": [],
   "source": [
    "def find_all_routes(graph,sender,receiver,route=[]):\n",
    "    route = route + [sender]\n",
    "    if sender == receiver:\n",
    "        return [route]\n",
    "    routes=[]\n",
    "    for i in graph[sender]:\n",
    "        if i not in route:\n",
    "            newroutes = find_all_routes(graph, i, receiver, route)\n",
    "            for newroute in newroutes:\n",
    "                routes.append(newroute)\n",
    "    return routes    "
   ]
  },
  {
   "cell_type": "code",
   "execution_count": 3,
   "metadata": {},
   "outputs": [
    {
     "data": {
      "text/plain": [
       "[[1, 2, 3, 4, 5], [1, 2, 4, 5]]"
      ]
     },
     "execution_count": 3,
     "metadata": {},
     "output_type": "execute_result"
    }
   ],
   "source": [
    "find_all_routes(graph,1,5)"
   ]
  }
 ],
 "metadata": {
  "kernelspec": {
   "display_name": "Python 3",
   "language": "python",
   "name": "python3"
  },
  "language_info": {
   "codemirror_mode": {
    "name": "ipython",
    "version": 3
   },
   "file_extension": ".py",
   "mimetype": "text/x-python",
   "name": "python",
   "nbconvert_exporter": "python",
   "pygments_lexer": "ipython3",
   "version": "3.8.5"
  }
 },
 "nbformat": 4,
 "nbformat_minor": 4
}
